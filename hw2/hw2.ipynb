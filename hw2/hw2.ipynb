{
  "cells": [
    {
      "cell_type": "markdown",
      "id": "ad594fc8-4989-40f3-b124-4550fe7df386",
      "metadata": {
        "id": "ad594fc8-4989-40f3-b124-4550fe7df386"
      },
      "source": [
        "### A. Checking and Preprocessing"
      ]
    },
    {
      "cell_type": "code",
      "execution_count": 45,
      "id": "42a3eafd-cbcd-4c56-82cb-83a0bfa2399e",
      "metadata": {
        "colab": {
          "base_uri": "https://localhost:8080/",
          "height": 424
        },
        "id": "42a3eafd-cbcd-4c56-82cb-83a0bfa2399e",
        "outputId": "ed5307f8-b55a-4d7f-e113-45f96b6d1591"
      },
      "outputs": [
        {
          "data": {
            "text/html": [
              "<div>\n",
              "<style scoped>\n",
              "    .dataframe tbody tr th:only-of-type {\n",
              "        vertical-align: middle;\n",
              "    }\n",
              "\n",
              "    .dataframe tbody tr th {\n",
              "        vertical-align: top;\n",
              "    }\n",
              "\n",
              "    .dataframe thead th {\n",
              "        text-align: right;\n",
              "    }\n",
              "</style>\n",
              "<table border=\"1\" class=\"dataframe\">\n",
              "  <thead>\n",
              "    <tr style=\"text-align: right;\">\n",
              "      <th></th>\n",
              "      <th>age</th>\n",
              "      <th>sex</th>\n",
              "      <th>cp</th>\n",
              "      <th>trestbps</th>\n",
              "      <th>chol</th>\n",
              "      <th>fbs</th>\n",
              "      <th>restecg</th>\n",
              "      <th>thalach</th>\n",
              "      <th>exang</th>\n",
              "      <th>oldpeak</th>\n",
              "      <th>slope</th>\n",
              "      <th>ca</th>\n",
              "      <th>thal</th>\n",
              "      <th>target</th>\n",
              "    </tr>\n",
              "  </thead>\n",
              "  <tbody>\n",
              "    <tr>\n",
              "      <th>0</th>\n",
              "      <td>41</td>\n",
              "      <td>Male</td>\n",
              "      <td>medium</td>\n",
              "      <td>105.0</td>\n",
              "      <td>198.0</td>\n",
              "      <td>0</td>\n",
              "      <td>1.0</td>\n",
              "      <td>168.0</td>\n",
              "      <td>0</td>\n",
              "      <td>0.0</td>\n",
              "      <td>2.0</td>\n",
              "      <td>1</td>\n",
              "      <td>2.0</td>\n",
              "      <td>1.0</td>\n",
              "    </tr>\n",
              "    <tr>\n",
              "      <th>1</th>\n",
              "      <td>65</td>\n",
              "      <td>Female</td>\n",
              "      <td>low</td>\n",
              "      <td>120.0</td>\n",
              "      <td>177.0</td>\n",
              "      <td>0</td>\n",
              "      <td>1.0</td>\n",
              "      <td>140.0</td>\n",
              "      <td>0</td>\n",
              "      <td>0.4</td>\n",
              "      <td>2.0</td>\n",
              "      <td>0</td>\n",
              "      <td>3.0</td>\n",
              "      <td>1.0</td>\n",
              "    </tr>\n",
              "    <tr>\n",
              "      <th>2</th>\n",
              "      <td>44</td>\n",
              "      <td>Female</td>\n",
              "      <td>medium</td>\n",
              "      <td>130.0</td>\n",
              "      <td>219.0</td>\n",
              "      <td>0</td>\n",
              "      <td>0.0</td>\n",
              "      <td>188.0</td>\n",
              "      <td>0</td>\n",
              "      <td>0.0</td>\n",
              "      <td>2.0</td>\n",
              "      <td>0</td>\n",
              "      <td>2.0</td>\n",
              "      <td>1.0</td>\n",
              "    </tr>\n",
              "    <tr>\n",
              "      <th>3</th>\n",
              "      <td>54</td>\n",
              "      <td>Female</td>\n",
              "      <td>high</td>\n",
              "      <td>125.0</td>\n",
              "      <td>273.0</td>\n",
              "      <td>0</td>\n",
              "      <td>0.0</td>\n",
              "      <td>152.0</td>\n",
              "      <td>0</td>\n",
              "      <td>0.5</td>\n",
              "      <td>0.0</td>\n",
              "      <td>1</td>\n",
              "      <td>2.0</td>\n",
              "      <td>1.0</td>\n",
              "    </tr>\n",
              "    <tr>\n",
              "      <th>4</th>\n",
              "      <td>51</td>\n",
              "      <td>Female</td>\n",
              "      <td>severe</td>\n",
              "      <td>125.0</td>\n",
              "      <td>213.0</td>\n",
              "      <td>0</td>\n",
              "      <td>0.0</td>\n",
              "      <td>125.0</td>\n",
              "      <td>1</td>\n",
              "      <td>1.4</td>\n",
              "      <td>2.0</td>\n",
              "      <td>1</td>\n",
              "      <td>2.0</td>\n",
              "      <td>1.0</td>\n",
              "    </tr>\n",
              "    <tr>\n",
              "      <th>...</th>\n",
              "      <td>...</td>\n",
              "      <td>...</td>\n",
              "      <td>...</td>\n",
              "      <td>...</td>\n",
              "      <td>...</td>\n",
              "      <td>...</td>\n",
              "      <td>...</td>\n",
              "      <td>...</td>\n",
              "      <td>...</td>\n",
              "      <td>...</td>\n",
              "      <td>...</td>\n",
              "      <td>...</td>\n",
              "      <td>...</td>\n",
              "      <td>...</td>\n",
              "    </tr>\n",
              "    <tr>\n",
              "      <th>268</th>\n",
              "      <td>40</td>\n",
              "      <td>Female</td>\n",
              "      <td>low</td>\n",
              "      <td>110.0</td>\n",
              "      <td>167.0</td>\n",
              "      <td>0</td>\n",
              "      <td>0.0</td>\n",
              "      <td>114.0</td>\n",
              "      <td>1</td>\n",
              "      <td>2.0</td>\n",
              "      <td>1.0</td>\n",
              "      <td>0</td>\n",
              "      <td>3.0</td>\n",
              "      <td>0.0</td>\n",
              "    </tr>\n",
              "    <tr>\n",
              "      <th>269</th>\n",
              "      <td>60</td>\n",
              "      <td>Female</td>\n",
              "      <td>low</td>\n",
              "      <td>117.0</td>\n",
              "      <td>230.0</td>\n",
              "      <td>1</td>\n",
              "      <td>1.0</td>\n",
              "      <td>160.0</td>\n",
              "      <td>1</td>\n",
              "      <td>1.4</td>\n",
              "      <td>2.0</td>\n",
              "      <td>2</td>\n",
              "      <td>3.0</td>\n",
              "      <td>0.0</td>\n",
              "    </tr>\n",
              "    <tr>\n",
              "      <th>270</th>\n",
              "      <td>64</td>\n",
              "      <td>Female</td>\n",
              "      <td>high</td>\n",
              "      <td>140.0</td>\n",
              "      <td>335.0</td>\n",
              "      <td>0</td>\n",
              "      <td>1.0</td>\n",
              "      <td>158.0</td>\n",
              "      <td>0</td>\n",
              "      <td>0.0</td>\n",
              "      <td>2.0</td>\n",
              "      <td>0</td>\n",
              "      <td>2.0</td>\n",
              "      <td>0.0</td>\n",
              "    </tr>\n",
              "    <tr>\n",
              "      <th>271</th>\n",
              "      <td>43</td>\n",
              "      <td>Female</td>\n",
              "      <td>low</td>\n",
              "      <td>120.0</td>\n",
              "      <td>177.0</td>\n",
              "      <td>0</td>\n",
              "      <td>0.0</td>\n",
              "      <td>120.0</td>\n",
              "      <td>1</td>\n",
              "      <td>2.5</td>\n",
              "      <td>1.0</td>\n",
              "      <td>0</td>\n",
              "      <td>3.0</td>\n",
              "      <td>0.0</td>\n",
              "    </tr>\n",
              "    <tr>\n",
              "      <th>272</th>\n",
              "      <td>57</td>\n",
              "      <td>Female</td>\n",
              "      <td>low</td>\n",
              "      <td>150.0</td>\n",
              "      <td>276.0</td>\n",
              "      <td>0</td>\n",
              "      <td>0.0</td>\n",
              "      <td>112.0</td>\n",
              "      <td>1</td>\n",
              "      <td>0.6</td>\n",
              "      <td>1.0</td>\n",
              "      <td>1</td>\n",
              "      <td>1.0</td>\n",
              "      <td>0.0</td>\n",
              "    </tr>\n",
              "  </tbody>\n",
              "</table>\n",
              "<p>273 rows × 14 columns</p>\n",
              "</div>"
            ],
            "text/plain": [
              "     age     sex      cp  trestbps   chol  fbs  restecg  thalach  exang  \\\n",
              "0     41    Male  medium     105.0  198.0    0      1.0    168.0      0   \n",
              "1     65  Female     low     120.0  177.0    0      1.0    140.0      0   \n",
              "2     44  Female  medium     130.0  219.0    0      0.0    188.0      0   \n",
              "3     54  Female    high     125.0  273.0    0      0.0    152.0      0   \n",
              "4     51  Female  severe     125.0  213.0    0      0.0    125.0      1   \n",
              "..   ...     ...     ...       ...    ...  ...      ...      ...    ...   \n",
              "268   40  Female     low     110.0  167.0    0      0.0    114.0      1   \n",
              "269   60  Female     low     117.0  230.0    1      1.0    160.0      1   \n",
              "270   64  Female    high     140.0  335.0    0      1.0    158.0      0   \n",
              "271   43  Female     low     120.0  177.0    0      0.0    120.0      1   \n",
              "272   57  Female     low     150.0  276.0    0      0.0    112.0      1   \n",
              "\n",
              "     oldpeak  slope  ca  thal  target  \n",
              "0        0.0    2.0   1   2.0     1.0  \n",
              "1        0.4    2.0   0   3.0     1.0  \n",
              "2        0.0    2.0   0   2.0     1.0  \n",
              "3        0.5    0.0   1   2.0     1.0  \n",
              "4        1.4    2.0   1   2.0     1.0  \n",
              "..       ...    ...  ..   ...     ...  \n",
              "268      2.0    1.0   0   3.0     0.0  \n",
              "269      1.4    2.0   2   3.0     0.0  \n",
              "270      0.0    2.0   0   2.0     0.0  \n",
              "271      2.5    1.0   0   3.0     0.0  \n",
              "272      0.6    1.0   1   1.0     0.0  \n",
              "\n",
              "[273 rows x 14 columns]"
            ]
          },
          "execution_count": 45,
          "metadata": {},
          "output_type": "execute_result"
        }
      ],
      "source": [
        "import pandas as pd\n",
        "\n",
        "df= pd.read_csv('heart_dataset_train_all.csv')\n",
        "df"
      ]
    },
    {
      "cell_type": "code",
      "execution_count": 46,
      "id": "34241797-60f0-4818-a44b-f5379948d621",
      "metadata": {
        "colab": {
          "base_uri": "https://localhost:8080/"
        },
        "id": "34241797-60f0-4818-a44b-f5379948d621",
        "outputId": "a55c9a63-dc43-411b-ef46-2fb48db11690"
      },
      "outputs": [
        {
          "data": {
            "text/plain": [
              "Index(['age', 'sex', 'cp', 'trestbps', 'chol', 'fbs', 'restecg', 'thalach',\n",
              "       'exang', 'oldpeak', 'slope', 'ca', 'thal', 'target'],\n",
              "      dtype='object')"
            ]
          },
          "execution_count": 46,
          "metadata": {},
          "output_type": "execute_result"
        }
      ],
      "source": [
        "df.columns"
      ]
    },
    {
      "cell_type": "code",
      "execution_count": 47,
      "id": "026585db-a6d8-4062-85de-e3a7eaebed72",
      "metadata": {
        "colab": {
          "base_uri": "https://localhost:8080/"
        },
        "id": "026585db-a6d8-4062-85de-e3a7eaebed72",
        "outputId": "ed978caf-af66-4266-c951-17c64a0ed866"
      },
      "outputs": [
        {
          "name": "stdout",
          "output_type": "stream",
          "text": [
            "<class 'pandas.core.frame.DataFrame'>\n",
            "RangeIndex: 273 entries, 0 to 272\n",
            "Data columns (total 14 columns):\n",
            " #   Column    Non-Null Count  Dtype  \n",
            "---  ------    --------------  -----  \n",
            " 0   age       273 non-null    int64  \n",
            " 1   sex       272 non-null    object \n",
            " 2   cp        272 non-null    object \n",
            " 3   trestbps  272 non-null    float64\n",
            " 4   chol      271 non-null    float64\n",
            " 5   fbs       273 non-null    int64  \n",
            " 6   restecg   272 non-null    float64\n",
            " 7   thalach   272 non-null    float64\n",
            " 8   exang     273 non-null    int64  \n",
            " 9   oldpeak   273 non-null    float64\n",
            " 10  slope     271 non-null    float64\n",
            " 11  ca        273 non-null    int64  \n",
            " 12  thal      272 non-null    float64\n",
            " 13  target    272 non-null    float64\n",
            "dtypes: float64(8), int64(4), object(2)\n",
            "memory usage: 30.0+ KB\n"
          ]
        }
      ],
      "source": [
        "df.info()"
      ]
    },
    {
      "cell_type": "code",
      "execution_count": 48,
      "id": "69031e6d-0fb5-49d9-b723-a0d1fee08c3c",
      "metadata": {
        "colab": {
          "base_uri": "https://localhost:8080/"
        },
        "id": "69031e6d-0fb5-49d9-b723-a0d1fee08c3c",
        "outputId": "76dca713-ae8d-47bd-bbcb-491e8f249750"
      },
      "outputs": [
        {
          "data": {
            "text/plain": [
              "age         0\n",
              "sex         1\n",
              "cp          1\n",
              "trestbps    1\n",
              "chol        2\n",
              "fbs         0\n",
              "restecg     1\n",
              "thalach     1\n",
              "exang       0\n",
              "oldpeak     0\n",
              "slope       2\n",
              "ca          0\n",
              "thal        1\n",
              "target      1\n",
              "dtype: int64"
            ]
          },
          "execution_count": 48,
          "metadata": {},
          "output_type": "execute_result"
        }
      ],
      "source": [
        "# checking for null values\n",
        "df.isnull().sum()"
      ]
    },
    {
      "cell_type": "code",
      "execution_count": 49,
      "id": "cb3090f8-2cfa-4f56-8aa5-cf954bb19932",
      "metadata": {
        "id": "cb3090f8-2cfa-4f56-8aa5-cf954bb19932"
      },
      "outputs": [],
      "source": [
        "df = df.dropna()"
      ]
    },
    {
      "cell_type": "code",
      "execution_count": 50,
      "id": "38aadbee-d68f-4ae0-b842-b40800b0cac9",
      "metadata": {
        "colab": {
          "base_uri": "https://localhost:8080/"
        },
        "id": "38aadbee-d68f-4ae0-b842-b40800b0cac9",
        "outputId": "34aae2b5-7805-4cb1-81db-99a6a0cbd620"
      },
      "outputs": [
        {
          "data": {
            "text/plain": [
              "(270, 14)"
            ]
          },
          "execution_count": 50,
          "metadata": {},
          "output_type": "execute_result"
        }
      ],
      "source": [
        "df.shape"
      ]
    },
    {
      "cell_type": "code",
      "execution_count": 51,
      "id": "26a69fd5-3534-4d8e-b59a-6778bf47a479",
      "metadata": {
        "colab": {
          "base_uri": "https://localhost:8080/",
          "height": 729
        },
        "id": "26a69fd5-3534-4d8e-b59a-6778bf47a479",
        "outputId": "8aeda363-24b6-4f92-e586-0b8430b22cdd"
      },
      "outputs": [
        {
          "data": {
            "text/html": [
              "<div>\n",
              "<style scoped>\n",
              "    .dataframe tbody tr th:only-of-type {\n",
              "        vertical-align: middle;\n",
              "    }\n",
              "\n",
              "    .dataframe tbody tr th {\n",
              "        vertical-align: top;\n",
              "    }\n",
              "\n",
              "    .dataframe thead th {\n",
              "        text-align: right;\n",
              "    }\n",
              "</style>\n",
              "<table border=\"1\" class=\"dataframe\">\n",
              "  <thead>\n",
              "    <tr style=\"text-align: right;\">\n",
              "      <th></th>\n",
              "      <th>age</th>\n",
              "      <th>sex</th>\n",
              "      <th>cp</th>\n",
              "      <th>trestbps</th>\n",
              "      <th>chol</th>\n",
              "      <th>fbs</th>\n",
              "      <th>restecg</th>\n",
              "      <th>thalach</th>\n",
              "      <th>exang</th>\n",
              "      <th>oldpeak</th>\n",
              "      <th>slope</th>\n",
              "      <th>ca</th>\n",
              "      <th>thal</th>\n",
              "      <th>target</th>\n",
              "    </tr>\n",
              "  </thead>\n",
              "  <tbody>\n",
              "    <tr>\n",
              "      <th>0</th>\n",
              "      <td>41</td>\n",
              "      <td>0</td>\n",
              "      <td>1</td>\n",
              "      <td>105.0</td>\n",
              "      <td>198.0</td>\n",
              "      <td>0</td>\n",
              "      <td>1.0</td>\n",
              "      <td>168.0</td>\n",
              "      <td>0</td>\n",
              "      <td>0.0</td>\n",
              "      <td>2.0</td>\n",
              "      <td>1</td>\n",
              "      <td>2.0</td>\n",
              "      <td>1.0</td>\n",
              "    </tr>\n",
              "    <tr>\n",
              "      <th>1</th>\n",
              "      <td>65</td>\n",
              "      <td>1</td>\n",
              "      <td>0</td>\n",
              "      <td>120.0</td>\n",
              "      <td>177.0</td>\n",
              "      <td>0</td>\n",
              "      <td>1.0</td>\n",
              "      <td>140.0</td>\n",
              "      <td>0</td>\n",
              "      <td>0.4</td>\n",
              "      <td>2.0</td>\n",
              "      <td>0</td>\n",
              "      <td>3.0</td>\n",
              "      <td>1.0</td>\n",
              "    </tr>\n",
              "    <tr>\n",
              "      <th>2</th>\n",
              "      <td>44</td>\n",
              "      <td>1</td>\n",
              "      <td>1</td>\n",
              "      <td>130.0</td>\n",
              "      <td>219.0</td>\n",
              "      <td>0</td>\n",
              "      <td>0.0</td>\n",
              "      <td>188.0</td>\n",
              "      <td>0</td>\n",
              "      <td>0.0</td>\n",
              "      <td>2.0</td>\n",
              "      <td>0</td>\n",
              "      <td>2.0</td>\n",
              "      <td>1.0</td>\n",
              "    </tr>\n",
              "    <tr>\n",
              "      <th>3</th>\n",
              "      <td>54</td>\n",
              "      <td>1</td>\n",
              "      <td>2</td>\n",
              "      <td>125.0</td>\n",
              "      <td>273.0</td>\n",
              "      <td>0</td>\n",
              "      <td>0.0</td>\n",
              "      <td>152.0</td>\n",
              "      <td>0</td>\n",
              "      <td>0.5</td>\n",
              "      <td>0.0</td>\n",
              "      <td>1</td>\n",
              "      <td>2.0</td>\n",
              "      <td>1.0</td>\n",
              "    </tr>\n",
              "    <tr>\n",
              "      <th>4</th>\n",
              "      <td>51</td>\n",
              "      <td>1</td>\n",
              "      <td>3</td>\n",
              "      <td>125.0</td>\n",
              "      <td>213.0</td>\n",
              "      <td>0</td>\n",
              "      <td>0.0</td>\n",
              "      <td>125.0</td>\n",
              "      <td>1</td>\n",
              "      <td>1.4</td>\n",
              "      <td>2.0</td>\n",
              "      <td>1</td>\n",
              "      <td>2.0</td>\n",
              "      <td>1.0</td>\n",
              "    </tr>\n",
              "    <tr>\n",
              "      <th>...</th>\n",
              "      <td>...</td>\n",
              "      <td>...</td>\n",
              "      <td>...</td>\n",
              "      <td>...</td>\n",
              "      <td>...</td>\n",
              "      <td>...</td>\n",
              "      <td>...</td>\n",
              "      <td>...</td>\n",
              "      <td>...</td>\n",
              "      <td>...</td>\n",
              "      <td>...</td>\n",
              "      <td>...</td>\n",
              "      <td>...</td>\n",
              "      <td>...</td>\n",
              "    </tr>\n",
              "    <tr>\n",
              "      <th>268</th>\n",
              "      <td>40</td>\n",
              "      <td>1</td>\n",
              "      <td>0</td>\n",
              "      <td>110.0</td>\n",
              "      <td>167.0</td>\n",
              "      <td>0</td>\n",
              "      <td>0.0</td>\n",
              "      <td>114.0</td>\n",
              "      <td>1</td>\n",
              "      <td>2.0</td>\n",
              "      <td>1.0</td>\n",
              "      <td>0</td>\n",
              "      <td>3.0</td>\n",
              "      <td>0.0</td>\n",
              "    </tr>\n",
              "    <tr>\n",
              "      <th>269</th>\n",
              "      <td>60</td>\n",
              "      <td>1</td>\n",
              "      <td>0</td>\n",
              "      <td>117.0</td>\n",
              "      <td>230.0</td>\n",
              "      <td>1</td>\n",
              "      <td>1.0</td>\n",
              "      <td>160.0</td>\n",
              "      <td>1</td>\n",
              "      <td>1.4</td>\n",
              "      <td>2.0</td>\n",
              "      <td>2</td>\n",
              "      <td>3.0</td>\n",
              "      <td>0.0</td>\n",
              "    </tr>\n",
              "    <tr>\n",
              "      <th>270</th>\n",
              "      <td>64</td>\n",
              "      <td>1</td>\n",
              "      <td>2</td>\n",
              "      <td>140.0</td>\n",
              "      <td>335.0</td>\n",
              "      <td>0</td>\n",
              "      <td>1.0</td>\n",
              "      <td>158.0</td>\n",
              "      <td>0</td>\n",
              "      <td>0.0</td>\n",
              "      <td>2.0</td>\n",
              "      <td>0</td>\n",
              "      <td>2.0</td>\n",
              "      <td>0.0</td>\n",
              "    </tr>\n",
              "    <tr>\n",
              "      <th>271</th>\n",
              "      <td>43</td>\n",
              "      <td>1</td>\n",
              "      <td>0</td>\n",
              "      <td>120.0</td>\n",
              "      <td>177.0</td>\n",
              "      <td>0</td>\n",
              "      <td>0.0</td>\n",
              "      <td>120.0</td>\n",
              "      <td>1</td>\n",
              "      <td>2.5</td>\n",
              "      <td>1.0</td>\n",
              "      <td>0</td>\n",
              "      <td>3.0</td>\n",
              "      <td>0.0</td>\n",
              "    </tr>\n",
              "    <tr>\n",
              "      <th>272</th>\n",
              "      <td>57</td>\n",
              "      <td>1</td>\n",
              "      <td>0</td>\n",
              "      <td>150.0</td>\n",
              "      <td>276.0</td>\n",
              "      <td>0</td>\n",
              "      <td>0.0</td>\n",
              "      <td>112.0</td>\n",
              "      <td>1</td>\n",
              "      <td>0.6</td>\n",
              "      <td>1.0</td>\n",
              "      <td>1</td>\n",
              "      <td>1.0</td>\n",
              "      <td>0.0</td>\n",
              "    </tr>\n",
              "  </tbody>\n",
              "</table>\n",
              "<p>270 rows × 14 columns</p>\n",
              "</div>"
            ],
            "text/plain": [
              "     age sex cp  trestbps   chol  fbs  restecg  thalach  exang  oldpeak  \\\n",
              "0     41   0  1     105.0  198.0    0      1.0    168.0      0      0.0   \n",
              "1     65   1  0     120.0  177.0    0      1.0    140.0      0      0.4   \n",
              "2     44   1  1     130.0  219.0    0      0.0    188.0      0      0.0   \n",
              "3     54   1  2     125.0  273.0    0      0.0    152.0      0      0.5   \n",
              "4     51   1  3     125.0  213.0    0      0.0    125.0      1      1.4   \n",
              "..   ...  .. ..       ...    ...  ...      ...      ...    ...      ...   \n",
              "268   40   1  0     110.0  167.0    0      0.0    114.0      1      2.0   \n",
              "269   60   1  0     117.0  230.0    1      1.0    160.0      1      1.4   \n",
              "270   64   1  2     140.0  335.0    0      1.0    158.0      0      0.0   \n",
              "271   43   1  0     120.0  177.0    0      0.0    120.0      1      2.5   \n",
              "272   57   1  0     150.0  276.0    0      0.0    112.0      1      0.6   \n",
              "\n",
              "     slope  ca  thal  target  \n",
              "0      2.0   1   2.0     1.0  \n",
              "1      2.0   0   3.0     1.0  \n",
              "2      2.0   0   2.0     1.0  \n",
              "3      0.0   1   2.0     1.0  \n",
              "4      2.0   1   2.0     1.0  \n",
              "..     ...  ..   ...     ...  \n",
              "268    1.0   0   3.0     0.0  \n",
              "269    2.0   2   3.0     0.0  \n",
              "270    2.0   0   2.0     0.0  \n",
              "271    1.0   0   3.0     0.0  \n",
              "272    1.0   1   1.0     0.0  \n",
              "\n",
              "[270 rows x 14 columns]"
            ]
          },
          "execution_count": 51,
          "metadata": {},
          "output_type": "execute_result"
        }
      ],
      "source": [
        "# Mapping 'sex' descriptions to numbers\n",
        "sex_description = {\n",
        "    'Male': 0,\n",
        "    'Female': 1,\n",
        "}\n",
        "df.loc[:, 'sex'] = df['sex'].map(sex_description)\n",
        "\n",
        "# Mapping 'cp' (chest pain) descriptions to numbers\n",
        "pain_description = {\n",
        "    'low': 0,\n",
        "    'medium': 1,\n",
        "    'high': 2,\n",
        "    'severe': 3\n",
        "}\n",
        "df.loc[:, 'cp'] = df['cp'].map(pain_description)\n",
        "\n",
        "df"
      ]
    },
    {
      "cell_type": "code",
      "execution_count": 52,
      "id": "051108c6-7011-4187-9e36-bd2944a019ca",
      "metadata": {
        "colab": {
          "base_uri": "https://localhost:8080/",
          "height": 320
        },
        "id": "051108c6-7011-4187-9e36-bd2944a019ca",
        "outputId": "ef50c90f-dc11-4bc8-d9e0-be42fd263593"
      },
      "outputs": [
        {
          "data": {
            "text/html": [
              "<div>\n",
              "<style scoped>\n",
              "    .dataframe tbody tr th:only-of-type {\n",
              "        vertical-align: middle;\n",
              "    }\n",
              "\n",
              "    .dataframe tbody tr th {\n",
              "        vertical-align: top;\n",
              "    }\n",
              "\n",
              "    .dataframe thead th {\n",
              "        text-align: right;\n",
              "    }\n",
              "</style>\n",
              "<table border=\"1\" class=\"dataframe\">\n",
              "  <thead>\n",
              "    <tr style=\"text-align: right;\">\n",
              "      <th></th>\n",
              "      <th>age</th>\n",
              "      <th>trestbps</th>\n",
              "      <th>chol</th>\n",
              "      <th>fbs</th>\n",
              "      <th>restecg</th>\n",
              "      <th>thalach</th>\n",
              "      <th>exang</th>\n",
              "      <th>oldpeak</th>\n",
              "      <th>slope</th>\n",
              "      <th>ca</th>\n",
              "      <th>thal</th>\n",
              "      <th>target</th>\n",
              "    </tr>\n",
              "  </thead>\n",
              "  <tbody>\n",
              "    <tr>\n",
              "      <th>count</th>\n",
              "      <td>270.000000</td>\n",
              "      <td>270.000000</td>\n",
              "      <td>270.000000</td>\n",
              "      <td>270.000000</td>\n",
              "      <td>270.000000</td>\n",
              "      <td>270.000000</td>\n",
              "      <td>270.000000</td>\n",
              "      <td>270.000000</td>\n",
              "      <td>270.000000</td>\n",
              "      <td>270.000000</td>\n",
              "      <td>270.000000</td>\n",
              "      <td>270.000000</td>\n",
              "    </tr>\n",
              "    <tr>\n",
              "      <th>mean</th>\n",
              "      <td>54.385185</td>\n",
              "      <td>131.525926</td>\n",
              "      <td>245.607407</td>\n",
              "      <td>0.151852</td>\n",
              "      <td>0.522222</td>\n",
              "      <td>149.807407</td>\n",
              "      <td>0.333333</td>\n",
              "      <td>1.024074</td>\n",
              "      <td>1.400000</td>\n",
              "      <td>0.744444</td>\n",
              "      <td>2.300000</td>\n",
              "      <td>0.544444</td>\n",
              "    </tr>\n",
              "    <tr>\n",
              "      <th>std</th>\n",
              "      <td>9.149713</td>\n",
              "      <td>17.904675</td>\n",
              "      <td>51.529411</td>\n",
              "      <td>0.359544</td>\n",
              "      <td>0.529314</td>\n",
              "      <td>23.217253</td>\n",
              "      <td>0.472280</td>\n",
              "      <td>1.188379</td>\n",
              "      <td>0.618188</td>\n",
              "      <td>1.037166</td>\n",
              "      <td>0.623874</td>\n",
              "      <td>0.498946</td>\n",
              "    </tr>\n",
              "    <tr>\n",
              "      <th>min</th>\n",
              "      <td>29.000000</td>\n",
              "      <td>94.000000</td>\n",
              "      <td>126.000000</td>\n",
              "      <td>0.000000</td>\n",
              "      <td>0.000000</td>\n",
              "      <td>71.000000</td>\n",
              "      <td>0.000000</td>\n",
              "      <td>0.000000</td>\n",
              "      <td>0.000000</td>\n",
              "      <td>0.000000</td>\n",
              "      <td>0.000000</td>\n",
              "      <td>0.000000</td>\n",
              "    </tr>\n",
              "    <tr>\n",
              "      <th>25%</th>\n",
              "      <td>47.250000</td>\n",
              "      <td>120.000000</td>\n",
              "      <td>210.250000</td>\n",
              "      <td>0.000000</td>\n",
              "      <td>0.000000</td>\n",
              "      <td>134.500000</td>\n",
              "      <td>0.000000</td>\n",
              "      <td>0.000000</td>\n",
              "      <td>1.000000</td>\n",
              "      <td>0.000000</td>\n",
              "      <td>2.000000</td>\n",
              "      <td>0.000000</td>\n",
              "    </tr>\n",
              "    <tr>\n",
              "      <th>50%</th>\n",
              "      <td>56.000000</td>\n",
              "      <td>130.000000</td>\n",
              "      <td>240.500000</td>\n",
              "      <td>0.000000</td>\n",
              "      <td>1.000000</td>\n",
              "      <td>152.500000</td>\n",
              "      <td>0.000000</td>\n",
              "      <td>0.600000</td>\n",
              "      <td>1.000000</td>\n",
              "      <td>0.000000</td>\n",
              "      <td>2.000000</td>\n",
              "      <td>1.000000</td>\n",
              "    </tr>\n",
              "    <tr>\n",
              "      <th>75%</th>\n",
              "      <td>61.000000</td>\n",
              "      <td>140.000000</td>\n",
              "      <td>274.000000</td>\n",
              "      <td>0.000000</td>\n",
              "      <td>1.000000</td>\n",
              "      <td>167.750000</td>\n",
              "      <td>1.000000</td>\n",
              "      <td>1.600000</td>\n",
              "      <td>2.000000</td>\n",
              "      <td>1.000000</td>\n",
              "      <td>3.000000</td>\n",
              "      <td>1.000000</td>\n",
              "    </tr>\n",
              "    <tr>\n",
              "      <th>max</th>\n",
              "      <td>77.000000</td>\n",
              "      <td>200.000000</td>\n",
              "      <td>564.000000</td>\n",
              "      <td>1.000000</td>\n",
              "      <td>2.000000</td>\n",
              "      <td>202.000000</td>\n",
              "      <td>1.000000</td>\n",
              "      <td>6.200000</td>\n",
              "      <td>2.000000</td>\n",
              "      <td>4.000000</td>\n",
              "      <td>3.000000</td>\n",
              "      <td>1.000000</td>\n",
              "    </tr>\n",
              "  </tbody>\n",
              "</table>\n",
              "</div>"
            ],
            "text/plain": [
              "              age    trestbps        chol         fbs     restecg     thalach  \\\n",
              "count  270.000000  270.000000  270.000000  270.000000  270.000000  270.000000   \n",
              "mean    54.385185  131.525926  245.607407    0.151852    0.522222  149.807407   \n",
              "std      9.149713   17.904675   51.529411    0.359544    0.529314   23.217253   \n",
              "min     29.000000   94.000000  126.000000    0.000000    0.000000   71.000000   \n",
              "25%     47.250000  120.000000  210.250000    0.000000    0.000000  134.500000   \n",
              "50%     56.000000  130.000000  240.500000    0.000000    1.000000  152.500000   \n",
              "75%     61.000000  140.000000  274.000000    0.000000    1.000000  167.750000   \n",
              "max     77.000000  200.000000  564.000000    1.000000    2.000000  202.000000   \n",
              "\n",
              "            exang     oldpeak       slope          ca        thal      target  \n",
              "count  270.000000  270.000000  270.000000  270.000000  270.000000  270.000000  \n",
              "mean     0.333333    1.024074    1.400000    0.744444    2.300000    0.544444  \n",
              "std      0.472280    1.188379    0.618188    1.037166    0.623874    0.498946  \n",
              "min      0.000000    0.000000    0.000000    0.000000    0.000000    0.000000  \n",
              "25%      0.000000    0.000000    1.000000    0.000000    2.000000    0.000000  \n",
              "50%      0.000000    0.600000    1.000000    0.000000    2.000000    1.000000  \n",
              "75%      1.000000    1.600000    2.000000    1.000000    3.000000    1.000000  \n",
              "max      1.000000    6.200000    2.000000    4.000000    3.000000    1.000000  "
            ]
          },
          "execution_count": 52,
          "metadata": {},
          "output_type": "execute_result"
        }
      ],
      "source": [
        "df.describe() "
      ]
    },
    {
      "cell_type": "code",
      "execution_count": 53,
      "id": "8b999df5-09a1-4ce2-b068-f1afba448ff8",
      "metadata": {
        "colab": {
          "base_uri": "https://localhost:8080/",
          "height": 508
        },
        "id": "8b999df5-09a1-4ce2-b068-f1afba448ff8",
        "outputId": "b687919c-7870-4c62-a58e-779e8db02f90"
      },
      "outputs": [
        {
          "data": {
            "text/html": [
              "<div>\n",
              "<style scoped>\n",
              "    .dataframe tbody tr th:only-of-type {\n",
              "        vertical-align: middle;\n",
              "    }\n",
              "\n",
              "    .dataframe tbody tr th {\n",
              "        vertical-align: top;\n",
              "    }\n",
              "\n",
              "    .dataframe thead th {\n",
              "        text-align: right;\n",
              "    }\n",
              "</style>\n",
              "<table border=\"1\" class=\"dataframe\">\n",
              "  <thead>\n",
              "    <tr style=\"text-align: right;\">\n",
              "      <th></th>\n",
              "      <th>age</th>\n",
              "      <th>sex</th>\n",
              "      <th>cp</th>\n",
              "      <th>trestbps</th>\n",
              "      <th>chol</th>\n",
              "      <th>fbs</th>\n",
              "      <th>restecg</th>\n",
              "      <th>thalach</th>\n",
              "      <th>exang</th>\n",
              "      <th>oldpeak</th>\n",
              "      <th>slope</th>\n",
              "      <th>ca</th>\n",
              "      <th>thal</th>\n",
              "      <th>target</th>\n",
              "    </tr>\n",
              "  </thead>\n",
              "  <tbody>\n",
              "    <tr>\n",
              "      <th>age</th>\n",
              "      <td>1.000000</td>\n",
              "      <td>-0.062222</td>\n",
              "      <td>-0.103697</td>\n",
              "      <td>0.261782</td>\n",
              "      <td>0.210520</td>\n",
              "      <td>0.109847</td>\n",
              "      <td>-0.124588</td>\n",
              "      <td>-0.412624</td>\n",
              "      <td>0.111263</td>\n",
              "      <td>0.200243</td>\n",
              "      <td>-0.165360</td>\n",
              "      <td>0.254462</td>\n",
              "      <td>0.077368</td>\n",
              "      <td>-0.244798</td>\n",
              "    </tr>\n",
              "    <tr>\n",
              "      <th>sex</th>\n",
              "      <td>-0.062222</td>\n",
              "      <td>1.000000</td>\n",
              "      <td>-0.040197</td>\n",
              "      <td>-0.055463</td>\n",
              "      <td>-0.166885</td>\n",
              "      <td>0.042384</td>\n",
              "      <td>-0.069599</td>\n",
              "      <td>-0.058626</td>\n",
              "      <td>0.124054</td>\n",
              "      <td>0.089726</td>\n",
              "      <td>-0.038771</td>\n",
              "      <td>0.140795</td>\n",
              "      <td>0.198493</td>\n",
              "      <td>-0.283776</td>\n",
              "    </tr>\n",
              "    <tr>\n",
              "      <th>cp</th>\n",
              "      <td>-0.103697</td>\n",
              "      <td>-0.040197</td>\n",
              "      <td>1.000000</td>\n",
              "      <td>0.035563</td>\n",
              "      <td>-0.063592</td>\n",
              "      <td>0.065869</td>\n",
              "      <td>0.008389</td>\n",
              "      <td>0.300307</td>\n",
              "      <td>-0.428233</td>\n",
              "      <td>-0.183616</td>\n",
              "      <td>0.135174</td>\n",
              "      <td>-0.180598</td>\n",
              "      <td>-0.139765</td>\n",
              "      <td>0.425574</td>\n",
              "    </tr>\n",
              "    <tr>\n",
              "      <th>trestbps</th>\n",
              "      <td>0.261782</td>\n",
              "      <td>-0.055463</td>\n",
              "      <td>0.035563</td>\n",
              "      <td>1.000000</td>\n",
              "      <td>0.128444</td>\n",
              "      <td>0.170606</td>\n",
              "      <td>-0.145195</td>\n",
              "      <td>-0.056631</td>\n",
              "      <td>0.067116</td>\n",
              "      <td>0.184896</td>\n",
              "      <td>-0.126553</td>\n",
              "      <td>0.093545</td>\n",
              "      <td>0.068690</td>\n",
              "      <td>-0.173239</td>\n",
              "    </tr>\n",
              "    <tr>\n",
              "      <th>chol</th>\n",
              "      <td>0.210520</td>\n",
              "      <td>-0.166885</td>\n",
              "      <td>-0.063592</td>\n",
              "      <td>0.128444</td>\n",
              "      <td>1.000000</td>\n",
              "      <td>0.003430</td>\n",
              "      <td>-0.162687</td>\n",
              "      <td>-0.023753</td>\n",
              "      <td>0.063902</td>\n",
              "      <td>0.084355</td>\n",
              "      <td>-0.031929</td>\n",
              "      <td>0.068647</td>\n",
              "      <td>0.121280</td>\n",
              "      <td>-0.096773</td>\n",
              "    </tr>\n",
              "    <tr>\n",
              "      <th>fbs</th>\n",
              "      <td>0.109847</td>\n",
              "      <td>0.042384</td>\n",
              "      <td>0.065869</td>\n",
              "      <td>0.170606</td>\n",
              "      <td>0.003430</td>\n",
              "      <td>1.000000</td>\n",
              "      <td>-0.086165</td>\n",
              "      <td>-0.014297</td>\n",
              "      <td>0.029190</td>\n",
              "      <td>0.007943</td>\n",
              "      <td>-0.056866</td>\n",
              "      <td>0.164266</td>\n",
              "      <td>-0.004972</td>\n",
              "      <td>-0.068845</td>\n",
              "    </tr>\n",
              "    <tr>\n",
              "      <th>restecg</th>\n",
              "      <td>-0.124588</td>\n",
              "      <td>-0.069599</td>\n",
              "      <td>0.008389</td>\n",
              "      <td>-0.145195</td>\n",
              "      <td>-0.162687</td>\n",
              "      <td>-0.086165</td>\n",
              "      <td>1.000000</td>\n",
              "      <td>0.025457</td>\n",
              "      <td>-0.089225</td>\n",
              "      <td>-0.047837</td>\n",
              "      <td>0.074982</td>\n",
              "      <td>-0.053946</td>\n",
              "      <td>-0.003377</td>\n",
              "      <td>0.101817</td>\n",
              "    </tr>\n",
              "    <tr>\n",
              "      <th>thalach</th>\n",
              "      <td>-0.412624</td>\n",
              "      <td>-0.058626</td>\n",
              "      <td>0.300307</td>\n",
              "      <td>-0.056631</td>\n",
              "      <td>-0.023753</td>\n",
              "      <td>-0.014297</td>\n",
              "      <td>0.025457</td>\n",
              "      <td>1.000000</td>\n",
              "      <td>-0.404349</td>\n",
              "      <td>-0.340564</td>\n",
              "      <td>0.370073</td>\n",
              "      <td>-0.205060</td>\n",
              "      <td>-0.078637</td>\n",
              "      <td>0.432687</td>\n",
              "    </tr>\n",
              "    <tr>\n",
              "      <th>exang</th>\n",
              "      <td>0.111263</td>\n",
              "      <td>0.124054</td>\n",
              "      <td>-0.428233</td>\n",
              "      <td>0.067116</td>\n",
              "      <td>0.063902</td>\n",
              "      <td>0.029190</td>\n",
              "      <td>-0.089225</td>\n",
              "      <td>-0.404349</td>\n",
              "      <td>1.000000</td>\n",
              "      <td>0.294308</td>\n",
              "      <td>-0.280124</td>\n",
              "      <td>0.106250</td>\n",
              "      <td>0.189253</td>\n",
              "      <td>-0.457502</td>\n",
              "    </tr>\n",
              "    <tr>\n",
              "      <th>oldpeak</th>\n",
              "      <td>0.200243</td>\n",
              "      <td>0.089726</td>\n",
              "      <td>-0.183616</td>\n",
              "      <td>0.184896</td>\n",
              "      <td>0.084355</td>\n",
              "      <td>0.007943</td>\n",
              "      <td>-0.047837</td>\n",
              "      <td>-0.340564</td>\n",
              "      <td>0.294308</td>\n",
              "      <td>1.000000</td>\n",
              "      <td>-0.585472</td>\n",
              "      <td>0.223375</td>\n",
              "      <td>0.200315</td>\n",
              "      <td>-0.443504</td>\n",
              "    </tr>\n",
              "    <tr>\n",
              "      <th>slope</th>\n",
              "      <td>-0.165360</td>\n",
              "      <td>-0.038771</td>\n",
              "      <td>0.135174</td>\n",
              "      <td>-0.126553</td>\n",
              "      <td>-0.031929</td>\n",
              "      <td>-0.056866</td>\n",
              "      <td>0.074982</td>\n",
              "      <td>0.370073</td>\n",
              "      <td>-0.280124</td>\n",
              "      <td>-0.585472</td>\n",
              "      <td>1.000000</td>\n",
              "      <td>-0.083491</td>\n",
              "      <td>-0.090606</td>\n",
              "      <td>0.363983</td>\n",
              "    </tr>\n",
              "    <tr>\n",
              "      <th>ca</th>\n",
              "      <td>0.254462</td>\n",
              "      <td>0.140795</td>\n",
              "      <td>-0.180598</td>\n",
              "      <td>0.093545</td>\n",
              "      <td>0.068647</td>\n",
              "      <td>0.164266</td>\n",
              "      <td>-0.053946</td>\n",
              "      <td>-0.205060</td>\n",
              "      <td>0.106250</td>\n",
              "      <td>0.223375</td>\n",
              "      <td>-0.083491</td>\n",
              "      <td>1.000000</td>\n",
              "      <td>0.136160</td>\n",
              "      <td>-0.391031</td>\n",
              "    </tr>\n",
              "    <tr>\n",
              "      <th>thal</th>\n",
              "      <td>0.077368</td>\n",
              "      <td>0.198493</td>\n",
              "      <td>-0.139765</td>\n",
              "      <td>0.068690</td>\n",
              "      <td>0.121280</td>\n",
              "      <td>-0.004972</td>\n",
              "      <td>-0.003377</td>\n",
              "      <td>-0.078637</td>\n",
              "      <td>0.189253</td>\n",
              "      <td>0.200315</td>\n",
              "      <td>-0.090606</td>\n",
              "      <td>0.136160</td>\n",
              "      <td>1.000000</td>\n",
              "      <td>-0.311701</td>\n",
              "    </tr>\n",
              "    <tr>\n",
              "      <th>target</th>\n",
              "      <td>-0.244798</td>\n",
              "      <td>-0.283776</td>\n",
              "      <td>0.425574</td>\n",
              "      <td>-0.173239</td>\n",
              "      <td>-0.096773</td>\n",
              "      <td>-0.068845</td>\n",
              "      <td>0.101817</td>\n",
              "      <td>0.432687</td>\n",
              "      <td>-0.457502</td>\n",
              "      <td>-0.443504</td>\n",
              "      <td>0.363983</td>\n",
              "      <td>-0.391031</td>\n",
              "      <td>-0.311701</td>\n",
              "      <td>1.000000</td>\n",
              "    </tr>\n",
              "  </tbody>\n",
              "</table>\n",
              "</div>"
            ],
            "text/plain": [
              "               age       sex        cp  trestbps      chol       fbs  \\\n",
              "age       1.000000 -0.062222 -0.103697  0.261782  0.210520  0.109847   \n",
              "sex      -0.062222  1.000000 -0.040197 -0.055463 -0.166885  0.042384   \n",
              "cp       -0.103697 -0.040197  1.000000  0.035563 -0.063592  0.065869   \n",
              "trestbps  0.261782 -0.055463  0.035563  1.000000  0.128444  0.170606   \n",
              "chol      0.210520 -0.166885 -0.063592  0.128444  1.000000  0.003430   \n",
              "fbs       0.109847  0.042384  0.065869  0.170606  0.003430  1.000000   \n",
              "restecg  -0.124588 -0.069599  0.008389 -0.145195 -0.162687 -0.086165   \n",
              "thalach  -0.412624 -0.058626  0.300307 -0.056631 -0.023753 -0.014297   \n",
              "exang     0.111263  0.124054 -0.428233  0.067116  0.063902  0.029190   \n",
              "oldpeak   0.200243  0.089726 -0.183616  0.184896  0.084355  0.007943   \n",
              "slope    -0.165360 -0.038771  0.135174 -0.126553 -0.031929 -0.056866   \n",
              "ca        0.254462  0.140795 -0.180598  0.093545  0.068647  0.164266   \n",
              "thal      0.077368  0.198493 -0.139765  0.068690  0.121280 -0.004972   \n",
              "target   -0.244798 -0.283776  0.425574 -0.173239 -0.096773 -0.068845   \n",
              "\n",
              "           restecg   thalach     exang   oldpeak     slope        ca  \\\n",
              "age      -0.124588 -0.412624  0.111263  0.200243 -0.165360  0.254462   \n",
              "sex      -0.069599 -0.058626  0.124054  0.089726 -0.038771  0.140795   \n",
              "cp        0.008389  0.300307 -0.428233 -0.183616  0.135174 -0.180598   \n",
              "trestbps -0.145195 -0.056631  0.067116  0.184896 -0.126553  0.093545   \n",
              "chol     -0.162687 -0.023753  0.063902  0.084355 -0.031929  0.068647   \n",
              "fbs      -0.086165 -0.014297  0.029190  0.007943 -0.056866  0.164266   \n",
              "restecg   1.000000  0.025457 -0.089225 -0.047837  0.074982 -0.053946   \n",
              "thalach   0.025457  1.000000 -0.404349 -0.340564  0.370073 -0.205060   \n",
              "exang    -0.089225 -0.404349  1.000000  0.294308 -0.280124  0.106250   \n",
              "oldpeak  -0.047837 -0.340564  0.294308  1.000000 -0.585472  0.223375   \n",
              "slope     0.074982  0.370073 -0.280124 -0.585472  1.000000 -0.083491   \n",
              "ca       -0.053946 -0.205060  0.106250  0.223375 -0.083491  1.000000   \n",
              "thal     -0.003377 -0.078637  0.189253  0.200315 -0.090606  0.136160   \n",
              "target    0.101817  0.432687 -0.457502 -0.443504  0.363983 -0.391031   \n",
              "\n",
              "              thal    target  \n",
              "age       0.077368 -0.244798  \n",
              "sex       0.198493 -0.283776  \n",
              "cp       -0.139765  0.425574  \n",
              "trestbps  0.068690 -0.173239  \n",
              "chol      0.121280 -0.096773  \n",
              "fbs      -0.004972 -0.068845  \n",
              "restecg  -0.003377  0.101817  \n",
              "thalach  -0.078637  0.432687  \n",
              "exang     0.189253 -0.457502  \n",
              "oldpeak   0.200315 -0.443504  \n",
              "slope    -0.090606  0.363983  \n",
              "ca        0.136160 -0.391031  \n",
              "thal      1.000000 -0.311701  \n",
              "target   -0.311701  1.000000  "
            ]
          },
          "execution_count": 53,
          "metadata": {},
          "output_type": "execute_result"
        }
      ],
      "source": [
        "df.corr()"
      ]
    },
    {
      "cell_type": "markdown",
      "id": "8ce7a0c5-76d6-4863-ba61-0544a220962a",
      "metadata": {
        "id": "8ce7a0c5-76d6-4863-ba61-0544a220962a"
      },
      "source": [
        "#### Converting the DataFrame to a NumPy Array"
      ]
    },
    {
      "cell_type": "code",
      "execution_count": 54,
      "id": "5735baad-2db8-4306-aa4c-7788d2b49621",
      "metadata": {
        "colab": {
          "base_uri": "https://localhost:8080/"
        },
        "id": "5735baad-2db8-4306-aa4c-7788d2b49621",
        "outputId": "db1c5b35-b477-452b-a96f-dbf4693471b5"
      },
      "outputs": [
        {
          "data": {
            "text/plain": [
              "(270, 14)"
            ]
          },
          "execution_count": 54,
          "metadata": {},
          "output_type": "execute_result"
        }
      ],
      "source": [
        "import numpy as np\n",
        "\n",
        "np_data = df.values ##直接把df變成numpy\n",
        "np_data = np_data.astype(np.float64)\n",
        "np_data.shape"
      ]
    },
    {
      "cell_type": "code",
      "execution_count": 55,
      "id": "29b8e189-7f39-435a-8038-39098b147325",
      "metadata": {
        "id": "29b8e189-7f39-435a-8038-39098b147325"
      },
      "outputs": [],
      "source": [
        "split_point = int(np_data.shape[0]*0.83)\n",
        "\n",
        "np.random.shuffle(np_data)\n",
        "\n",
        "x_train = np_data[:split_point, :13]\n",
        "y_train = np_data[:split_point, 13]\n",
        "x_val = np_data[split_point:, :13]\n",
        "y_val = np_data[split_point:, 13]"
      ]
    },
    {
      "cell_type": "code",
      "execution_count": 56,
      "id": "fedb56d7-1665-4c90-9697-b86cab43f300",
      "metadata": {
        "colab": {
          "base_uri": "https://localhost:8080/"
        },
        "id": "fedb56d7-1665-4c90-9697-b86cab43f300",
        "outputId": "2c7e2a91-55b4-472c-b3dd-2b799db31064"
      },
      "outputs": [
        {
          "name": "stdout",
          "output_type": "stream",
          "text": [
            "Number of samples in train and validation are 224 and 46.\n"
          ]
        }
      ],
      "source": [
        "import torch\n",
        "from torch.utils.data import DataLoader, TensorDataset\n",
        "\n",
        "# Convert to PyTorch tensors\n",
        "x_train = torch.from_numpy(x_train).float()\n",
        "y_train = torch.from_numpy(y_train).long() #long某種大的int,和loss有關\n",
        "\n",
        "x_val = torch.from_numpy(x_val).float()\n",
        "y_val = torch.from_numpy(y_val).long()\n",
        "\n",
        "batch_size = 16\n",
        "\n",
        "# Create datasets\n",
        "train_dataset = TensorDataset(x_train, y_train)\n",
        "val_dataset = TensorDataset(x_val, y_val)\n",
        "\n",
        "# Create dataloaders\n",
        "train_loader = DataLoader(train_dataset, batch_size=batch_size, shuffle=True)\n",
        "val_loader = DataLoader(val_dataset, batch_size=batch_size, shuffle=False)\n",
        "\n",
        "print(f'Number of samples in train and validation are {len(train_loader.dataset)} and {len(val_loader.dataset)}.')"
      ]
    },
    {
      "cell_type": "markdown",
      "id": "8ffc26b9-6044-41e9-93e2-7dc6250dbd27",
      "metadata": {
        "id": "8ffc26b9-6044-41e9-93e2-7dc6250dbd27"
      },
      "source": [
        "### B. Defining Neural Networks\n"
      ]
    },
    {
      "cell_type": "code",
      "execution_count": 57,
      "id": "77975746-a7a7-4676-9527-57674cd98c0f",
      "metadata": {
        "id": "77975746-a7a7-4676-9527-57674cd98c0f"
      },
      "outputs": [],
      "source": [
        "import torch.nn as nn\n",
        "\n",
        "class Model(nn.Module):\n",
        "    def __init__(self):\n",
        "        super().__init__()\n",
        "        self.model = nn.Sequential(\n",
        "            nn.Linear(13, 256),\n",
        "            nn.ReLU(),\n",
        "            nn.Linear(256, 256),\n",
        "            nn.ReLU(),\n",
        "            nn.Linear(256, 2)\n",
        "        ).cuda()\n",
        "\n",
        "    def forward(self, x):\n",
        "        return self.model(x)"
      ]
    },
    {
      "cell_type": "markdown",
      "id": "cbb8b5b0-0ec0-406c-a42e-048aa00e05aa",
      "metadata": {
        "id": "cbb8b5b0-0ec0-406c-a42e-048aa00e05aa"
      },
      "source": [
        "### C. Training the Neural Network"
      ]
    },
    {
      "cell_type": "code",
      "execution_count": 58,
      "id": "f73a5c35-c15d-49bb-8a33-a7f017159499",
      "metadata": {
        "colab": {
          "base_uri": "https://localhost:8080/",
          "height": 1000,
          "referenced_widgets": [
            "833c2a309ddf4479b911ef4be5217432",
            "4c699d87949340fb92106cd67305deba",
            "0af10bdd24c545b8879ef0df6bee12e2",
            "54a1b435d01f4c7798e02f728362d980",
            "a0856f0084c24a61ab01cac3d1226d94",
            "02f5b945c44949baa45893408e656101",
            "382db34be861422d81185d6065707e5f",
            "001f18667f9540a3af50fe00c7b50a2e",
            "72eab2184ecd479391708a045aa5396f",
            "0493cd52f15a470cbc507dcc8cff394f",
            "c3ab5427a1744374bd4f2ef580943c92"
          ]
        },
        "id": "f73a5c35-c15d-49bb-8a33-a7f017159499",
        "outputId": "7b8106f7-3bda-41c0-fd02-c1df5fdd3cca"
      },
      "outputs": [
        {
          "name": "stderr",
          "output_type": "stream",
          "text": [
            "  3%|▎         | 3/100 [00:00<00:04, 21.48it/s]"
          ]
        },
        {
          "name": "stdout",
          "output_type": "stream",
          "text": [
            "Epoch 1/100, Train loss: 2.5855, Train acc: 56.2500%, Val loss: 0.7262, Val acc: 67.3913%, Best Val loss: 0.7262 Best Val acc: 67.39%\n",
            "Epoch 2/100, Train loss: 0.8975, Train acc: 63.3929%, Val loss: 1.8383, Val acc: 41.3043%, Best Val loss: 0.7262 Best Val acc: 67.39%\n",
            "Epoch 3/100, Train loss: 0.8564, Train acc: 69.6429%, Val loss: 0.7356, Val acc: 65.2174%, Best Val loss: 0.7262 Best Val acc: 67.39%\n"
          ]
        },
        {
          "name": "stdout",
          "output_type": "stream",
          "text": [
            "Epoch 4/100, Train loss: 0.8385, Train acc: 60.2679%, Val loss: 0.8324, Val acc: 54.3478%, Best Val loss: 0.7262 Best Val acc: 67.39%\n",
            "Epoch 5/100, Train loss: 1.2828, Train acc: 54.9107%, Val loss: 1.0054, Val acc: 54.3478%, Best Val loss: 0.7262 Best Val acc: 67.39%\n"
          ]
        },
        {
          "name": "stderr",
          "output_type": "stream",
          "text": [
            "  9%|▉         | 9/100 [00:00<00:03, 23.09it/s]"
          ]
        },
        {
          "name": "stdout",
          "output_type": "stream",
          "text": [
            "Epoch 6/100, Train loss: 1.0110, Train acc: 59.3750%, Val loss: 0.7818, Val acc: 58.6957%, Best Val loss: 0.7262 Best Val acc: 67.39%\n",
            "Epoch 7/100, Train loss: 0.7547, Train acc: 64.2857%, Val loss: 0.5686, Val acc: 69.5652%, Best Val loss: 0.5686 Best Val acc: 69.57%\n",
            "Epoch 8/100, Train loss: 0.6593, Train acc: 65.6250%, Val loss: 1.1564, Val acc: 45.6522%, Best Val loss: 0.5686 Best Val acc: 69.57%\n",
            "Epoch 9/100, Train loss: 0.8940, Train acc: 58.0357%, Val loss: 0.6413, Val acc: 67.3913%, Best Val loss: 0.5686 Best Val acc: 69.57%\n",
            "Epoch 10/100, Train loss: 0.6087, Train acc: 70.5357%, Val loss: 0.6423, Val acc: 67.3913%, Best Val loss: 0.5686 Best Val acc: 69.57%\n",
            "Epoch 11/100, Train loss: 0.5902, Train acc: 68.7500%, Val loss: 0.7990, Val acc: 65.2174%, Best Val loss: 0.5686 Best Val acc: 69.57%\n"
          ]
        },
        {
          "name": "stderr",
          "output_type": "stream",
          "text": [
            " 15%|█▌        | 15/100 [00:00<00:03, 24.67it/s]"
          ]
        },
        {
          "name": "stdout",
          "output_type": "stream",
          "text": [
            "Epoch 12/100, Train loss: 0.5656, Train acc: 71.8750%, Val loss: 0.6007, Val acc: 71.7391%, Best Val loss: 0.5686 Best Val acc: 71.74%\n",
            "Epoch 13/100, Train loss: 0.5438, Train acc: 71.4286%, Val loss: 0.5243, Val acc: 71.7391%, Best Val loss: 0.5243 Best Val acc: 71.74%\n",
            "Epoch 14/100, Train loss: 0.5395, Train acc: 74.5536%, Val loss: 0.5408, Val acc: 69.5652%, Best Val loss: 0.5243 Best Val acc: 71.74%\n",
            "Epoch 15/100, Train loss: 0.5476, Train acc: 71.8750%, Val loss: 0.5444, Val acc: 73.9130%, Best Val loss: 0.5243 Best Val acc: 73.91%\n",
            "Epoch 16/100, Train loss: 0.6519, Train acc: 63.3929%, Val loss: 0.5176, Val acc: 76.0870%, Best Val loss: 0.5176 Best Val acc: 76.09%\n",
            "Epoch 17/100, Train loss: 0.5181, Train acc: 73.6607%, Val loss: 0.5106, Val acc: 76.0870%, Best Val loss: 0.5106 Best Val acc: 76.09%\n"
          ]
        },
        {
          "name": "stderr",
          "output_type": "stream",
          "text": [
            " 21%|██        | 21/100 [00:00<00:03, 25.02it/s]"
          ]
        },
        {
          "name": "stdout",
          "output_type": "stream",
          "text": [
            "Epoch 18/100, Train loss: 0.4893, Train acc: 75.8929%, Val loss: 0.6074, Val acc: 63.0435%, Best Val loss: 0.5106 Best Val acc: 76.09%\n",
            "Epoch 19/100, Train loss: 0.5662, Train acc: 71.4286%, Val loss: 0.5462, Val acc: 69.5652%, Best Val loss: 0.5106 Best Val acc: 76.09%\n",
            "Epoch 20/100, Train loss: 0.4901, Train acc: 74.5536%, Val loss: 0.4988, Val acc: 78.2609%, Best Val loss: 0.4988 Best Val acc: 78.26%\n",
            "Epoch 21/100, Train loss: 0.4730, Train acc: 75.8929%, Val loss: 0.5199, Val acc: 76.0870%, Best Val loss: 0.4988 Best Val acc: 78.26%\n",
            "Epoch 22/100, Train loss: 0.4777, Train acc: 75.8929%, Val loss: 0.6454, Val acc: 56.5217%, Best Val loss: 0.4988 Best Val acc: 78.26%\n",
            "Epoch 23/100, Train loss: 0.5846, Train acc: 69.1964%, Val loss: 0.7643, Val acc: 50.0000%, Best Val loss: 0.4988 Best Val acc: 78.26%\n"
          ]
        },
        {
          "name": "stderr",
          "output_type": "stream",
          "text": [
            " 27%|██▋       | 27/100 [00:01<00:02, 25.36it/s]"
          ]
        },
        {
          "name": "stdout",
          "output_type": "stream",
          "text": [
            "Epoch 24/100, Train loss: 0.7001, Train acc: 71.4286%, Val loss: 0.6174, Val acc: 67.3913%, Best Val loss: 0.4988 Best Val acc: 78.26%\n",
            "Epoch 25/100, Train loss: 0.5069, Train acc: 71.8750%, Val loss: 0.5505, Val acc: 71.7391%, Best Val loss: 0.4988 Best Val acc: 78.26%\n",
            "Epoch 26/100, Train loss: 0.6199, Train acc: 71.8750%, Val loss: 0.7632, Val acc: 67.3913%, Best Val loss: 0.4988 Best Val acc: 78.26%\n",
            "Epoch 27/100, Train loss: 0.6081, Train acc: 76.7857%, Val loss: 0.5340, Val acc: 73.9130%, Best Val loss: 0.4988 Best Val acc: 78.26%\n",
            "Epoch 28/100, Train loss: 0.4050, Train acc: 82.1429%, Val loss: 0.5886, Val acc: 69.5652%, Best Val loss: 0.4988 Best Val acc: 78.26%\n",
            "Epoch 29/100, Train loss: 0.4313, Train acc: 81.2500%, Val loss: 0.5130, Val acc: 71.7391%, Best Val loss: 0.4988 Best Val acc: 78.26%\n"
          ]
        },
        {
          "name": "stderr",
          "output_type": "stream",
          "text": [
            " 30%|███       | 30/100 [00:01<00:02, 25.27it/s]"
          ]
        },
        {
          "name": "stdout",
          "output_type": "stream",
          "text": [
            "Epoch 30/100, Train loss: 0.4976, Train acc: 73.2143%, Val loss: 0.5493, Val acc: 67.3913%, Best Val loss: 0.4988 Best Val acc: 78.26%\n",
            "Epoch 31/100, Train loss: 0.4305, Train acc: 81.6964%, Val loss: 0.4623, Val acc: 80.4348%, Best Val loss: 0.4623 Best Val acc: 80.43%\n",
            "Epoch 32/100, Train loss: 0.4116, Train acc: 83.0357%, Val loss: 0.4822, Val acc: 71.7391%, Best Val loss: 0.4623 Best Val acc: 80.43%\n"
          ]
        },
        {
          "name": "stderr",
          "output_type": "stream",
          "text": [
            " 33%|███▎      | 33/100 [00:01<00:02, 24.58it/s]"
          ]
        },
        {
          "name": "stdout",
          "output_type": "stream",
          "text": [
            "Epoch 33/100, Train loss: 0.4792, Train acc: 78.5714%, Val loss: 0.5959, Val acc: 67.3913%, Best Val loss: 0.4623 Best Val acc: 80.43%\n",
            "Epoch 34/100, Train loss: 0.5444, Train acc: 72.3214%, Val loss: 0.7341, Val acc: 67.3913%, Best Val loss: 0.4623 Best Val acc: 80.43%\n",
            "Epoch 35/100, Train loss: 0.4677, Train acc: 78.1250%, Val loss: 0.5307, Val acc: 71.7391%, Best Val loss: 0.4623 Best Val acc: 80.43%\n"
          ]
        },
        {
          "name": "stderr",
          "output_type": "stream",
          "text": [
            " 36%|███▌      | 36/100 [00:01<00:02, 24.82it/s]"
          ]
        },
        {
          "name": "stdout",
          "output_type": "stream",
          "text": [
            "Epoch 36/100, Train loss: 0.5091, Train acc: 75.0000%, Val loss: 0.6533, Val acc: 63.0435%, Best Val loss: 0.4623 Best Val acc: 80.43%\n",
            "Epoch 37/100, Train loss: 0.5286, Train acc: 73.6607%, Val loss: 0.5750, Val acc: 69.5652%, Best Val loss: 0.4623 Best Val acc: 80.43%\n",
            "Epoch 38/100, Train loss: 0.5063, Train acc: 74.5536%, Val loss: 0.5070, Val acc: 71.7391%, Best Val loss: 0.4623 Best Val acc: 80.43%\n"
          ]
        },
        {
          "name": "stderr",
          "output_type": "stream",
          "text": [
            " 39%|███▉      | 39/100 [00:01<00:02, 24.77it/s]"
          ]
        },
        {
          "name": "stdout",
          "output_type": "stream",
          "text": [
            "Epoch 39/100, Train loss: 0.4015, Train acc: 82.5893%, Val loss: 0.4475, Val acc: 84.7826%, Best Val loss: 0.4475 Best Val acc: 84.78%\n",
            "Epoch 40/100, Train loss: 0.3827, Train acc: 83.9286%, Val loss: 0.6116, Val acc: 63.0435%, Best Val loss: 0.4475 Best Val acc: 84.78%\n",
            "Epoch 41/100, Train loss: 0.4083, Train acc: 83.0357%, Val loss: 0.5076, Val acc: 78.2609%, Best Val loss: 0.4475 Best Val acc: 84.78%\n"
          ]
        },
        {
          "name": "stderr",
          "output_type": "stream",
          "text": [
            " 42%|████▏     | 42/100 [00:01<00:02, 24.92it/s]"
          ]
        },
        {
          "name": "stdout",
          "output_type": "stream",
          "text": [
            "Epoch 42/100, Train loss: 0.4960, Train acc: 75.8929%, Val loss: 0.6504, Val acc: 63.0435%, Best Val loss: 0.4475 Best Val acc: 84.78%\n",
            "Epoch 43/100, Train loss: 0.4356, Train acc: 77.2321%, Val loss: 0.5927, Val acc: 67.3913%, Best Val loss: 0.4475 Best Val acc: 84.78%\n",
            "Epoch 44/100, Train loss: 0.4789, Train acc: 77.2321%, Val loss: 0.5015, Val acc: 71.7391%, Best Val loss: 0.4475 Best Val acc: 84.78%\n"
          ]
        },
        {
          "name": "stderr",
          "output_type": "stream",
          "text": [
            " 45%|████▌     | 45/100 [00:01<00:02, 25.02it/s]"
          ]
        },
        {
          "name": "stdout",
          "output_type": "stream",
          "text": [
            "Epoch 45/100, Train loss: 0.3806, Train acc: 82.5893%, Val loss: 0.5067, Val acc: 76.0870%, Best Val loss: 0.4475 Best Val acc: 84.78%\n",
            "Epoch 46/100, Train loss: 0.3469, Train acc: 83.9286%, Val loss: 0.5643, Val acc: 69.5652%, Best Val loss: 0.4475 Best Val acc: 84.78%\n",
            "Epoch 47/100, Train loss: 0.3413, Train acc: 84.3750%, Val loss: 0.5589, Val acc: 65.2174%, Best Val loss: 0.4475 Best Val acc: 84.78%\n"
          ]
        },
        {
          "name": "stderr",
          "output_type": "stream",
          "text": [
            " 48%|████▊     | 48/100 [00:01<00:02, 25.10it/s]"
          ]
        },
        {
          "name": "stdout",
          "output_type": "stream",
          "text": [
            "Epoch 48/100, Train loss: 0.3905, Train acc: 80.3571%, Val loss: 0.7229, Val acc: 67.3913%, Best Val loss: 0.4475 Best Val acc: 84.78%\n",
            "Epoch 49/100, Train loss: 0.4467, Train acc: 79.0179%, Val loss: 0.4717, Val acc: 80.4348%, Best Val loss: 0.4475 Best Val acc: 84.78%\n",
            "Epoch 50/100, Train loss: 0.3531, Train acc: 84.8214%, Val loss: 0.5041, Val acc: 78.2609%, Best Val loss: 0.4475 Best Val acc: 84.78%\n"
          ]
        },
        {
          "name": "stderr",
          "output_type": "stream",
          "text": [
            " 51%|█████     | 51/100 [00:02<00:01, 25.28it/s]"
          ]
        },
        {
          "name": "stdout",
          "output_type": "stream",
          "text": [
            "Epoch 51/100, Train loss: 0.3964, Train acc: 80.3571%, Val loss: 0.4976, Val acc: 78.2609%, Best Val loss: 0.4475 Best Val acc: 84.78%\n",
            "Epoch 52/100, Train loss: 0.3620, Train acc: 82.5893%, Val loss: 0.5045, Val acc: 80.4348%, Best Val loss: 0.4475 Best Val acc: 84.78%\n",
            "Epoch 53/100, Train loss: 0.3254, Train acc: 85.7143%, Val loss: 0.5565, Val acc: 65.2174%, Best Val loss: 0.4475 Best Val acc: 84.78%\n"
          ]
        },
        {
          "name": "stderr",
          "output_type": "stream",
          "text": [
            " 54%|█████▍    | 54/100 [00:02<00:01, 25.54it/s]"
          ]
        },
        {
          "name": "stdout",
          "output_type": "stream",
          "text": [
            "Epoch 54/100, Train loss: 0.3663, Train acc: 81.2500%, Val loss: 0.4968, Val acc: 80.4348%, Best Val loss: 0.4475 Best Val acc: 84.78%\n",
            "Epoch 55/100, Train loss: 0.3593, Train acc: 84.3750%, Val loss: 0.5456, Val acc: 69.5652%, Best Val loss: 0.4475 Best Val acc: 84.78%\n",
            "Epoch 56/100, Train loss: 0.3577, Train acc: 86.6071%, Val loss: 0.6415, Val acc: 67.3913%, Best Val loss: 0.4475 Best Val acc: 84.78%\n"
          ]
        },
        {
          "name": "stderr",
          "output_type": "stream",
          "text": [
            " 57%|█████▋    | 57/100 [00:02<00:01, 25.72it/s]"
          ]
        },
        {
          "name": "stdout",
          "output_type": "stream",
          "text": [
            "Epoch 57/100, Train loss: 0.4479, Train acc: 79.0179%, Val loss: 0.5676, Val acc: 65.2174%, Best Val loss: 0.4475 Best Val acc: 84.78%\n",
            "Epoch 58/100, Train loss: 0.3689, Train acc: 86.6071%, Val loss: 0.6362, Val acc: 65.2174%, Best Val loss: 0.4475 Best Val acc: 84.78%\n",
            "Epoch 59/100, Train loss: 0.3376, Train acc: 85.7143%, Val loss: 0.5333, Val acc: 71.7391%, Best Val loss: 0.4475 Best Val acc: 84.78%\n"
          ]
        },
        {
          "name": "stderr",
          "output_type": "stream",
          "text": [
            " 60%|██████    | 60/100 [00:02<00:01, 25.77it/s]"
          ]
        },
        {
          "name": "stdout",
          "output_type": "stream",
          "text": [
            "Epoch 60/100, Train loss: 0.3699, Train acc: 83.9286%, Val loss: 0.5172, Val acc: 73.9130%, Best Val loss: 0.4475 Best Val acc: 84.78%\n",
            "Epoch 61/100, Train loss: 0.3785, Train acc: 83.4821%, Val loss: 0.5631, Val acc: 65.2174%, Best Val loss: 0.4475 Best Val acc: 84.78%\n",
            "Epoch 62/100, Train loss: 0.3266, Train acc: 86.1607%, Val loss: 0.5023, Val acc: 80.4348%, Best Val loss: 0.4475 Best Val acc: 84.78%\n"
          ]
        },
        {
          "name": "stderr",
          "output_type": "stream",
          "text": [
            " 63%|██████▎   | 63/100 [00:02<00:01, 25.89it/s]"
          ]
        },
        {
          "name": "stdout",
          "output_type": "stream",
          "text": [
            "Epoch 63/100, Train loss: 0.3273, Train acc: 86.1607%, Val loss: 0.5023, Val acc: 73.9130%, Best Val loss: 0.4475 Best Val acc: 84.78%\n",
            "Epoch 64/100, Train loss: 0.3526, Train acc: 83.4821%, Val loss: 0.5598, Val acc: 65.2174%, Best Val loss: 0.4475 Best Val acc: 84.78%\n",
            "Epoch 65/100, Train loss: 0.3803, Train acc: 87.0536%, Val loss: 0.4986, Val acc: 78.2609%, Best Val loss: 0.4475 Best Val acc: 84.78%\n"
          ]
        },
        {
          "name": "stderr",
          "output_type": "stream",
          "text": [
            " 66%|██████▌   | 66/100 [00:02<00:01, 25.83it/s]"
          ]
        },
        {
          "name": "stdout",
          "output_type": "stream",
          "text": [
            "Epoch 66/100, Train loss: 0.3644, Train acc: 83.9286%, Val loss: 0.5040, Val acc: 80.4348%, Best Val loss: 0.4475 Best Val acc: 84.78%\n",
            "Epoch 67/100, Train loss: 0.3630, Train acc: 82.5893%, Val loss: 0.5541, Val acc: 69.5652%, Best Val loss: 0.4475 Best Val acc: 84.78%\n",
            "Epoch 68/100, Train loss: 0.3842, Train acc: 81.6964%, Val loss: 0.6086, Val acc: 67.3913%, Best Val loss: 0.4475 Best Val acc: 84.78%\n"
          ]
        },
        {
          "name": "stderr",
          "output_type": "stream",
          "text": [
            " 69%|██████▉   | 69/100 [00:02<00:01, 25.66it/s]"
          ]
        },
        {
          "name": "stdout",
          "output_type": "stream",
          "text": [
            "Epoch 69/100, Train loss: 0.3692, Train acc: 81.6964%, Val loss: 0.6942, Val acc: 69.5652%, Best Val loss: 0.4475 Best Val acc: 84.78%\n",
            "Epoch 70/100, Train loss: 0.4126, Train acc: 80.8036%, Val loss: 0.5090, Val acc: 80.4348%, Best Val loss: 0.4475 Best Val acc: 84.78%\n",
            "Epoch 71/100, Train loss: 0.3639, Train acc: 83.0357%, Val loss: 0.6268, Val acc: 65.2174%, Best Val loss: 0.4475 Best Val acc: 84.78%\n"
          ]
        },
        {
          "name": "stderr",
          "output_type": "stream",
          "text": [
            " 72%|███████▏  | 72/100 [00:02<00:01, 25.68it/s]"
          ]
        },
        {
          "name": "stdout",
          "output_type": "stream",
          "text": [
            "Epoch 72/100, Train loss: 0.3458, Train acc: 83.9286%, Val loss: 0.6181, Val acc: 65.2174%, Best Val loss: 0.4475 Best Val acc: 84.78%\n",
            "Epoch 73/100, Train loss: 0.3058, Train acc: 85.2679%, Val loss: 0.5551, Val acc: 71.7391%, Best Val loss: 0.4475 Best Val acc: 84.78%\n",
            "Epoch 74/100, Train loss: 0.3386, Train acc: 84.8214%, Val loss: 0.5025, Val acc: 78.2609%, Best Val loss: 0.4475 Best Val acc: 84.78%\n"
          ]
        },
        {
          "name": "stderr",
          "output_type": "stream",
          "text": [
            " 75%|███████▌  | 75/100 [00:02<00:00, 25.69it/s]"
          ]
        },
        {
          "name": "stdout",
          "output_type": "stream",
          "text": [
            "Epoch 75/100, Train loss: 0.3115, Train acc: 85.2679%, Val loss: 0.5657, Val acc: 63.0435%, Best Val loss: 0.4475 Best Val acc: 84.78%\n",
            "Epoch 76/100, Train loss: 0.3174, Train acc: 87.0536%, Val loss: 0.5250, Val acc: 73.9130%, Best Val loss: 0.4475 Best Val acc: 84.78%\n",
            "Epoch 77/100, Train loss: 0.3277, Train acc: 84.8214%, Val loss: 0.5091, Val acc: 78.2609%, Best Val loss: 0.4475 Best Val acc: 84.78%\n"
          ]
        },
        {
          "name": "stderr",
          "output_type": "stream",
          "text": [
            " 78%|███████▊  | 78/100 [00:03<00:00, 25.76it/s]"
          ]
        },
        {
          "name": "stdout",
          "output_type": "stream",
          "text": [
            "Epoch 78/100, Train loss: 0.3416, Train acc: 83.4821%, Val loss: 0.5819, Val acc: 63.0435%, Best Val loss: 0.4475 Best Val acc: 84.78%\n",
            "Epoch 79/100, Train loss: 0.3081, Train acc: 87.0536%, Val loss: 0.5034, Val acc: 78.2609%, Best Val loss: 0.4475 Best Val acc: 84.78%\n",
            "Epoch 80/100, Train loss: 0.3149, Train acc: 85.7143%, Val loss: 0.5345, Val acc: 71.7391%, Best Val loss: 0.4475 Best Val acc: 84.78%\n"
          ]
        },
        {
          "name": "stderr",
          "output_type": "stream",
          "text": [
            " 81%|████████  | 81/100 [00:03<00:00, 25.42it/s]"
          ]
        },
        {
          "name": "stdout",
          "output_type": "stream",
          "text": [
            "Epoch 81/100, Train loss: 0.3010, Train acc: 86.1607%, Val loss: 0.5069, Val acc: 80.4348%, Best Val loss: 0.4475 Best Val acc: 84.78%\n",
            "Epoch 82/100, Train loss: 0.3134, Train acc: 86.1607%, Val loss: 0.5067, Val acc: 78.2609%, Best Val loss: 0.4475 Best Val acc: 84.78%\n",
            "Epoch 83/100, Train loss: 0.3108, Train acc: 86.6071%, Val loss: 0.5120, Val acc: 73.9130%, Best Val loss: 0.4475 Best Val acc: 84.78%\n"
          ]
        },
        {
          "name": "stderr",
          "output_type": "stream",
          "text": [
            " 84%|████████▍ | 84/100 [00:03<00:00, 25.37it/s]"
          ]
        },
        {
          "name": "stdout",
          "output_type": "stream",
          "text": [
            "Epoch 84/100, Train loss: 0.3082, Train acc: 85.2679%, Val loss: 0.5176, Val acc: 73.9130%, Best Val loss: 0.4475 Best Val acc: 84.78%\n",
            "Epoch 85/100, Train loss: 0.3024, Train acc: 86.1607%, Val loss: 0.5157, Val acc: 73.9130%, Best Val loss: 0.4475 Best Val acc: 84.78%\n",
            "Epoch 86/100, Train loss: 0.3046, Train acc: 86.6071%, Val loss: 0.5225, Val acc: 73.9130%, Best Val loss: 0.4475 Best Val acc: 84.78%\n"
          ]
        },
        {
          "name": "stderr",
          "output_type": "stream",
          "text": [
            " 87%|████████▋ | 87/100 [00:03<00:00, 25.35it/s]"
          ]
        },
        {
          "name": "stdout",
          "output_type": "stream",
          "text": [
            "Epoch 87/100, Train loss: 0.3015, Train acc: 86.1607%, Val loss: 0.5128, Val acc: 73.9130%, Best Val loss: 0.4475 Best Val acc: 84.78%\n",
            "Epoch 88/100, Train loss: 0.3076, Train acc: 86.6071%, Val loss: 0.5081, Val acc: 80.4348%, Best Val loss: 0.4475 Best Val acc: 84.78%\n"
          ]
        },
        {
          "name": "stderr",
          "output_type": "stream",
          "text": [
            " 90%|█████████ | 90/100 [00:03<00:00, 25.46it/s]"
          ]
        },
        {
          "name": "stdout",
          "output_type": "stream",
          "text": [
            "Epoch 89/100, Train loss: 0.3010, Train acc: 86.1607%, Val loss: 0.5210, Val acc: 73.9130%, Best Val loss: 0.4475 Best Val acc: 84.78%\n",
            "Epoch 90/100, Train loss: 0.3026, Train acc: 87.0536%, Val loss: 0.5195, Val acc: 73.9130%, Best Val loss: 0.4475 Best Val acc: 84.78%\n",
            "Epoch 91/100, Train loss: 0.3000, Train acc: 86.1607%, Val loss: 0.5162, Val acc: 73.9130%, Best Val loss: 0.4475 Best Val acc: 84.78%\n",
            "Epoch 92/100, Train loss: 0.3040, Train acc: 86.1607%, Val loss: 0.5145, Val acc: 73.9130%, Best Val loss: 0.4475 Best Val acc: 84.78%\n"
          ]
        },
        {
          "name": "stderr",
          "output_type": "stream",
          "text": [
            " 93%|█████████▎| 93/100 [00:03<00:00, 25.60it/s]"
          ]
        },
        {
          "name": "stdout",
          "output_type": "stream",
          "text": [
            "Epoch 93/100, Train loss: 0.3011, Train acc: 86.1607%, Val loss: 0.5260, Val acc: 73.9130%, Best Val loss: 0.4475 Best Val acc: 84.78%\n",
            "Epoch 94/100, Train loss: 0.3006, Train acc: 86.1607%, Val loss: 0.5198, Val acc: 73.9130%, Best Val loss: 0.4475 Best Val acc: 84.78%\n"
          ]
        },
        {
          "name": "stderr",
          "output_type": "stream",
          "text": [
            " 96%|█████████▌| 96/100 [00:03<00:00, 25.63it/s]"
          ]
        },
        {
          "name": "stdout",
          "output_type": "stream",
          "text": [
            "Epoch 95/100, Train loss: 0.2996, Train acc: 86.1607%, Val loss: 0.5172, Val acc: 73.9130%, Best Val loss: 0.4475 Best Val acc: 84.78%\n",
            "Epoch 96/100, Train loss: 0.2998, Train acc: 86.1607%, Val loss: 0.5181, Val acc: 73.9130%, Best Val loss: 0.4475 Best Val acc: 84.78%\n",
            "Epoch 97/100, Train loss: 0.2993, Train acc: 86.1607%, Val loss: 0.5178, Val acc: 73.9130%, Best Val loss: 0.4475 Best Val acc: 84.78%\n",
            "Epoch 98/100, Train loss: 0.2994, Train acc: 86.1607%, Val loss: 0.5172, Val acc: 73.9130%, Best Val loss: 0.4475 Best Val acc: 84.78%\n"
          ]
        },
        {
          "name": "stderr",
          "output_type": "stream",
          "text": [
            "100%|██████████| 100/100 [00:03<00:00, 25.17it/s]"
          ]
        },
        {
          "name": "stdout",
          "output_type": "stream",
          "text": [
            "Epoch 99/100, Train loss: 0.2993, Train acc: 86.1607%, Val loss: 0.5170, Val acc: 73.9130%, Best Val loss: 0.4475 Best Val acc: 84.78%\n",
            "Epoch 100/100, Train loss: 0.2992, Train acc: 86.1607%, Val loss: 0.5171, Val acc: 73.9130%, Best Val loss: 0.4475 Best Val acc: 84.78%\n"
          ]
        },
        {
          "name": "stderr",
          "output_type": "stream",
          "text": [
            "\n"
          ]
        }
      ],
      "source": [
        "import torch.optim as optim\n",
        "from torch.optim.lr_scheduler import CosineAnnealingLR, StepLR\n",
        "from tqdm.auto import tqdm\n",
        "\n",
        "train_losses = []\n",
        "val_losses = []\n",
        "train_accuracies = []\n",
        "val_accuracies = []\n",
        "\n",
        "epochs = 100\n",
        "\n",
        "model = Model()\n",
        "# print(model)\n",
        "\n",
        "best_val_loss = float('inf')\n",
        "best_val_acc = -1\n",
        "\n",
        "criterion = nn.CrossEntropyLoss()\n",
        "optimizer = optim.Adam(model.parameters(), lr=1e-3)\n",
        "lr_scheduler = CosineAnnealingLR(optimizer, T_max=epochs, eta_min=0)\n",
        "\n",
        "for epoch in tqdm(range(epochs)):\n",
        "    # Training\n",
        "    model.train()\n",
        "    total_loss = 0.0\n",
        "    train_correct = 0\n",
        "    total_train_samples = 0\n",
        "\n",
        "    for features, labels in train_loader:\n",
        "        features = features.cuda()\n",
        "        labels = labels.cuda()\n",
        "\n",
        "        outputs = model(features)\n",
        "\n",
        "        loss = criterion(outputs, labels)\n",
        "        total_loss += loss.item()\n",
        "\n",
        "        optimizer.zero_grad()\n",
        "        loss.backward()\n",
        "        optimizer.step()\n",
        "\n",
        "        train_predicted = outputs.argmax(-1)\n",
        "        train_correct += (train_predicted == labels).sum().item()\n",
        "        total_train_samples += labels.size(0)\n",
        "\n",
        "    # Learning rate update\n",
        "    lr_scheduler.step()\n",
        "\n",
        "    avg_train_loss = total_loss / len(train_loader) ##每一個epoch的average loss\n",
        "    train_accuracy = 100. * train_correct / total_train_samples\n",
        "\n",
        "    # Validation\n",
        "    model.eval()\n",
        "    total_val_loss = 0.0\n",
        "    correct = 0\n",
        "    total = 0\n",
        "    with torch.no_grad():\n",
        "        for features, labels in val_loader:\n",
        "            features = features.cuda()\n",
        "            labels = labels.cuda()\n",
        "\n",
        "            outputs = model(features)\n",
        "\n",
        "            loss = criterion(outputs, labels)\n",
        "            total_val_loss += loss.item()\n",
        "\n",
        "            predicted = outputs.argmax(-1)\n",
        "            correct += (predicted == labels).sum().item()\n",
        "            total += labels.size(0)\n",
        "\n",
        "    avg_val_loss = total_val_loss / len(val_loader)\n",
        "    val_accuracy = 100. * correct / total\n",
        "\n",
        "    # Checkpoint\n",
        "    if avg_val_loss < best_val_loss:\n",
        "        best_val_loss = avg_val_loss\n",
        "\n",
        "    if val_accuracy > best_val_acc:\n",
        "        best_val_acc = val_accuracy\n",
        "        torch.save(model.state_dict(), 'model_classification.pth') ##存目前best的model\n",
        "\n",
        "    print(f'Epoch {epoch+1}/{epochs}, Train loss: {avg_train_loss:.4f}, Train acc: {train_accuracy:.4f}%, Val loss: {avg_val_loss:.4f}, Val acc: {val_accuracy:.4f}%, Best Val loss: {best_val_loss:.4f} Best Val acc: {best_val_acc:.2f}%')\n",
        "\n",
        "    # Store performance\n",
        "    train_losses.append(avg_train_loss)\n",
        "    train_accuracies.append(train_accuracy)\n",
        "    val_losses.append(avg_val_loss)\n",
        "    val_accuracies.append(val_accuracy)"
      ]
    },
    {
      "cell_type": "markdown",
      "id": "a7984c6e-6652-4160-b572-07d48bc93a3f",
      "metadata": {
        "id": "a7984c6e-6652-4160-b572-07d48bc93a3f"
      },
      "source": [
        "#### Visualizing the model performance"
      ]
    },
    {
      "cell_type": "code",
      "execution_count": 59,
      "id": "5559d850-1fb5-4b04-b6ca-60c5b309f34e",
      "metadata": {
        "colab": {
          "base_uri": "https://localhost:8080/",
          "height": 372
        },
        "id": "5559d850-1fb5-4b04-b6ca-60c5b309f34e",
        "outputId": "d4bb0b3e-fd06-48d6-d50a-7c0eecaea572"
      },
      "outputs": [
        {
          "data": {
            "image/png": "[encoded data removed]",
            "text/plain": [
              "<Figure size 1500x500 with 2 Axes>"
            ]
          },
          "metadata": {},
          "output_type": "display_data"
        }
      ],
      "source": [
        "import matplotlib.pyplot as plt\n",
        "\n",
        "fig, ax = plt.subplots(1, 2, figsize=(15, 5))\n",
        "\n",
        "# Plotting training and validation accuracy\n",
        "ax[0].plot(train_accuracies)\n",
        "ax[0].plot(val_accuracies)\n",
        "ax[0].set_title('Model Accuracy')\n",
        "ax[0].set_xlabel('Epochs')\n",
        "ax[0].set_ylabel('Accuracy')\n",
        "ax[0].legend(['Train', 'Val'])\n",
        "\n",
        "# Plotting training and validation loss\n",
        "ax[1].plot(train_losses)\n",
        "ax[1].plot(val_losses)\n",
        "ax[1].set_title('Model Loss')\n",
        "ax[1].set_xlabel('Epochs')\n",
        "ax[1].set_ylabel('Loss')\n",
        "ax[1].legend(['Train', 'Val'])\n",
        "\n",
        "plt.show()"
      ]
    },
    {
      "cell_type": "markdown",
      "id": "89c7e51b-8ab6-4aa2-877d-39b6daf55c20",
      "metadata": {
        "id": "89c7e51b-8ab6-4aa2-877d-39b6daf55c20"
      },
      "source": [
        "### D. Evaluating Your Trained Model"
      ]
    },
    {
      "cell_type": "code",
      "execution_count": 60,
      "id": "f49735d7-466f-4037-8078-172f03dffd8d",
      "metadata": {
        "colab": {
          "base_uri": "https://localhost:8080/",
          "height": 206
        },
        "id": "f49735d7-466f-4037-8078-172f03dffd8d",
        "outputId": "e815ef48-71b9-4f9d-98d8-61e3ca1ac734"
      },
      "outputs": [
        {
          "data": {
            "text/html": [
              "<div>\n",
              "<style scoped>\n",
              "    .dataframe tbody tr th:only-of-type {\n",
              "        vertical-align: middle;\n",
              "    }\n",
              "\n",
              "    .dataframe tbody tr th {\n",
              "        vertical-align: top;\n",
              "    }\n",
              "\n",
              "    .dataframe thead th {\n",
              "        text-align: right;\n",
              "    }\n",
              "</style>\n",
              "<table border=\"1\" class=\"dataframe\">\n",
              "  <thead>\n",
              "    <tr style=\"text-align: right;\">\n",
              "      <th></th>\n",
              "      <th>age</th>\n",
              "      <th>sex</th>\n",
              "      <th>cp</th>\n",
              "      <th>trestbps</th>\n",
              "      <th>chol</th>\n",
              "      <th>fbs</th>\n",
              "      <th>restecg</th>\n",
              "      <th>thalach</th>\n",
              "      <th>exang</th>\n",
              "      <th>oldpeak</th>\n",
              "      <th>slope</th>\n",
              "      <th>ca</th>\n",
              "      <th>thal</th>\n",
              "      <th>target</th>\n",
              "    </tr>\n",
              "  </thead>\n",
              "  <tbody>\n",
              "    <tr>\n",
              "      <th>0</th>\n",
              "      <td>50</td>\n",
              "      <td>0</td>\n",
              "      <td>2</td>\n",
              "      <td>120</td>\n",
              "      <td>219</td>\n",
              "      <td>0</td>\n",
              "      <td>1</td>\n",
              "      <td>158</td>\n",
              "      <td>0</td>\n",
              "      <td>1.6</td>\n",
              "      <td>1</td>\n",
              "      <td>0</td>\n",
              "      <td>2</td>\n",
              "      <td>1</td>\n",
              "    </tr>\n",
              "    <tr>\n",
              "      <th>1</th>\n",
              "      <td>58</td>\n",
              "      <td>0</td>\n",
              "      <td>2</td>\n",
              "      <td>120</td>\n",
              "      <td>340</td>\n",
              "      <td>0</td>\n",
              "      <td>1</td>\n",
              "      <td>172</td>\n",
              "      <td>0</td>\n",
              "      <td>0.0</td>\n",
              "      <td>2</td>\n",
              "      <td>0</td>\n",
              "      <td>2</td>\n",
              "      <td>1</td>\n",
              "    </tr>\n",
              "    <tr>\n",
              "      <th>2</th>\n",
              "      <td>66</td>\n",
              "      <td>0</td>\n",
              "      <td>3</td>\n",
              "      <td>150</td>\n",
              "      <td>226</td>\n",
              "      <td>0</td>\n",
              "      <td>1</td>\n",
              "      <td>114</td>\n",
              "      <td>0</td>\n",
              "      <td>2.6</td>\n",
              "      <td>0</td>\n",
              "      <td>0</td>\n",
              "      <td>2</td>\n",
              "      <td>1</td>\n",
              "    </tr>\n",
              "    <tr>\n",
              "      <th>3</th>\n",
              "      <td>43</td>\n",
              "      <td>1</td>\n",
              "      <td>0</td>\n",
              "      <td>150</td>\n",
              "      <td>247</td>\n",
              "      <td>0</td>\n",
              "      <td>1</td>\n",
              "      <td>171</td>\n",
              "      <td>0</td>\n",
              "      <td>1.5</td>\n",
              "      <td>2</td>\n",
              "      <td>0</td>\n",
              "      <td>2</td>\n",
              "      <td>1</td>\n",
              "    </tr>\n",
              "    <tr>\n",
              "      <th>4</th>\n",
              "      <td>69</td>\n",
              "      <td>0</td>\n",
              "      <td>3</td>\n",
              "      <td>140</td>\n",
              "      <td>239</td>\n",
              "      <td>0</td>\n",
              "      <td>1</td>\n",
              "      <td>151</td>\n",
              "      <td>0</td>\n",
              "      <td>1.8</td>\n",
              "      <td>2</td>\n",
              "      <td>2</td>\n",
              "      <td>2</td>\n",
              "      <td>1</td>\n",
              "    </tr>\n",
              "  </tbody>\n",
              "</table>\n",
              "</div>"
            ],
            "text/plain": [
              "   age  sex  cp  trestbps  chol  fbs  restecg  thalach  exang  oldpeak  slope  \\\n",
              "0   50    0   2       120   219    0        1      158      0      1.6      1   \n",
              "1   58    0   2       120   340    0        1      172      0      0.0      2   \n",
              "2   66    0   3       150   226    0        1      114      0      2.6      0   \n",
              "3   43    1   0       150   247    0        1      171      0      1.5      2   \n",
              "4   69    0   3       140   239    0        1      151      0      1.8      2   \n",
              "\n",
              "   ca  thal  target  \n",
              "0   0     2       1  \n",
              "1   0     2       1  \n",
              "2   0     2       1  \n",
              "3   0     2       1  \n",
              "4   2     2       1  "
            ]
          },
          "execution_count": 60,
          "metadata": {},
          "output_type": "execute_result"
        }
      ],
      "source": [
        "# read test file\n",
        "test_data = pd.read_csv('heart_dataset_test.csv')\n",
        "test_data.head()"
      ]
    },
    {
      "cell_type": "code",
      "execution_count": 61,
      "id": "21ae9d85-0dc2-4db0-a7c7-807c6b6c514f",
      "metadata": {
        "colab": {
          "base_uri": "https://localhost:8080/"
        },
        "id": "21ae9d85-0dc2-4db0-a7c7-807c6b6c514f",
        "outputId": "d43458a1-1a66-47f6-fcdb-6111da6be2d9"
      },
      "outputs": [
        {
          "data": {
            "text/plain": [
              "age         0\n",
              "sex         0\n",
              "cp          0\n",
              "trestbps    0\n",
              "chol        0\n",
              "fbs         0\n",
              "restecg     0\n",
              "thalach     0\n",
              "exang       0\n",
              "oldpeak     0\n",
              "slope       0\n",
              "ca          0\n",
              "thal        0\n",
              "target      0\n",
              "dtype: int64"
            ]
          },
          "execution_count": 61,
          "metadata": {},
          "output_type": "execute_result"
        }
      ],
      "source": [
        "test_data.isnull().sum()"
      ]
    },
    {
      "cell_type": "code",
      "execution_count": 62,
      "id": "5ff2812b-a5a5-4ea9-86be-ae2143cb2ba7",
      "metadata": {
        "colab": {
          "base_uri": "https://localhost:8080/"
        },
        "id": "5ff2812b-a5a5-4ea9-86be-ae2143cb2ba7",
        "outputId": "d143e201-d151-4d90-cabc-9719fb87b48f"
      },
      "outputs": [
        {
          "data": {
            "text/plain": [
              "(31, 14)"
            ]
          },
          "execution_count": 62,
          "metadata": {},
          "output_type": "execute_result"
        }
      ],
      "source": [
        "test_data = test_data.values\n",
        "test_data.shape"
      ]
    },
    {
      "cell_type": "code",
      "execution_count": 63,
      "id": "14d4be20-f64f-421d-8971-e1e47873aef8",
      "metadata": {
        "id": "14d4be20-f64f-421d-8971-e1e47873aef8"
      },
      "outputs": [],
      "source": [
        "# Convert to PyTorch tensors\n",
        "x_test = torch.from_numpy(test_data[:, :13]).float()\n",
        "y_test = torch.from_numpy(test_data[:, 13]).long()\n",
        "\n",
        "# Create datasets\n",
        "test_dataset = TensorDataset(x_test, y_test)\n",
        "\n",
        "# Create dataloaders\n",
        "test_loader = DataLoader(test_dataset, batch_size=1, shuffle=False)"
      ]
    },
    {
      "cell_type": "code",
      "execution_count": 64,
      "id": "4bcf8580-42ee-4ee7-ad15-9f080cc57a33",
      "metadata": {
        "colab": {
          "base_uri": "https://localhost:8080/"
        },
        "id": "4bcf8580-42ee-4ee7-ad15-9f080cc57a33",
        "outputId": "8b2ea734-c445-46e2-b24b-c911b86e1ba0"
      },
      "outputs": [
        {
          "name": "stdout",
          "output_type": "stream",
          "text": [
            "Test accuracy is 83.87096774193549%\n"
          ]
        }
      ],
      "source": [
        "# Load the trained weights\n",
        "model.load_state_dict(torch.load('model_classification.pth'))\n",
        "\n",
        "# Set the model to evaluation mode\n",
        "model.eval()\n",
        "\n",
        "test_correct = 0\n",
        "test_total = 0\n",
        "\n",
        "with torch.no_grad():\n",
        "    for features, labels in test_loader:\n",
        "\n",
        "        features = features.cuda()\n",
        "        labels = labels.cuda()\n",
        "\n",
        "        outputs = model(features)\n",
        "\n",
        "        predicted = outputs.argmax(-1)\n",
        "        test_correct += (predicted == labels).sum().item()\n",
        "        test_total += labels.size(0)\n",
        "\n",
        "print(f'Test accuracy is {100. * test_correct / test_total}%')"
      ]
    },
    {
      "cell_type": "markdown",
      "id": "e6fcd3ba",
      "metadata": {},
      "source": [
        "### plot for visualization"
      ]
    },
    {
      "cell_type": "code",
      "execution_count": 65,
      "id": "39284751",
      "metadata": {},
      "outputs": [
        {
          "data": {
            "image/png": "[encoded data removed]",
            "text/plain": [
              "<Figure size 640x480 with 1 Axes>"
            ]
          },
          "metadata": {},
          "output_type": "display_data"
        }
      ],
      "source": [
        "import matplotlib.pyplot as plt\n",
        "\n",
        "batch_sizes = [8,16,32,64,128]\n",
        "accuracy = [67.74, 80.65, 77.51, 61.29, 64.51]\n",
        "plt.plot(batch_sizes, accuracy, marker='x', linestyle='-')\n",
        "plt.title('Model Accuracy vs. Batch Size')\n",
        "plt.xlabel('batch size')\n",
        "plt.ylabel('Accuracy')\n",
        "plt.xticks(batch_sizes)  # 設置 x 軸刻度為批量大小\n",
        "plt.show()"
      ]
    },
    {
      "cell_type": "code",
      "execution_count": 66,
      "id": "1fcc6c25",
      "metadata": {},
      "outputs": [
        {
          "data": {
            "image/png": "[encoded data removed]",
            "text/plain": [
              "<Figure size 640x480 with 1 Axes>"
            ]
          },
          "metadata": {},
          "output_type": "display_data"
        }
      ],
      "source": [
        "import matplotlib.pyplot as plt\n",
        "\n",
        "lr = [1e-4, 5e-4, 1e-3, 5e-3, 1e-2]\n",
        "accuracy = [61.29, 67.74, 74.19, 70.10, 64.52]\n",
        "plt.plot(lr, accuracy, marker='o', linestyle='-')\n",
        "plt.title('Model Accuracy vs. Learnig rate')\n",
        "plt.xlabel('Learning rate')\n",
        "plt.ylabel('Accuracy(%)')\n",
        "#plt.xticks(lr)  # 設置 x 軸刻度為批量大小\n",
        "plt.show()"
      ]
    }
  ],
  "metadata": {
    "accelerator": "GPU",
    "colab": {
      "gpuType": "T4",
      "provenance": [],
      "toc_visible": true
    },
    "kernelspec": {
      "display_name": "Python 3",
      "name": "python3"
    },
    "language_info": {
      "codemirror_mode": {
        "name": "ipython",
        "version": 3
      },
      "file_extension": ".py",
      "mimetype": "text/x-python",
      "name": "python",
      "nbconvert_exporter": "python",
      "pygments_lexer": "ipython3",
      "version": "3.8.18"
    },
    "widgets": {
      "application/vnd.jupyter.widget-state+json": {
        "001f18667f9540a3af50fe00c7b50a2e": {
          "model_module": "@jupyter-widgets/base",
          "model_module_version": "1.2.0",
          "model_name": "LayoutModel",
          "state": {
            "_model_module": "@jupyter-widgets/base",
            "_model_module_version": "1.2.0",
            "_model_name": "LayoutModel",
            "_view_count": null,
            "_view_module": "@jupyter-widgets/base",
            "_view_module_version": "1.2.0",
            "_view_name": "LayoutView",
            "align_content": null,
            "align_items": null,
            "align_self": null,
            "border": null,
            "bottom": null,
            "display": null,
            "flex": null,
            "flex_flow": null,
            "grid_area": null,
            "grid_auto_columns": null,
            "grid_auto_flow": null,
            "grid_auto_rows": null,
            "grid_column": null,
            "grid_gap": null,
            "grid_row": null,
            "grid_template_areas": null,
            "grid_template_columns": null,
            "grid_template_rows": null,
            "height": null,
            "justify_content": null,
            "justify_items": null,
            "left": null,
            "margin": null,
            "max_height": null,
            "max_width": null,
            "min_height": null,
            "min_width": null,
            "object_fit": null,
            "object_position": null,
            "order": null,
            "overflow": null,
            "overflow_x": null,
            "overflow_y": null,
            "padding": null,
            "right": null,
            "top": null,
            "visibility": null,
            "width": null
          }
        },
        "02f5b945c44949baa45893408e656101": {
          "model_module": "@jupyter-widgets/base",
          "model_module_version": "1.2.0",
          "model_name": "LayoutModel",
          "state": {
            "_model_module": "@jupyter-widgets/base",
            "_model_module_version": "1.2.0",
            "_model_name": "LayoutModel",
            "_view_count": null,
            "_view_module": "@jupyter-widgets/base",
            "_view_module_version": "1.2.0",
            "_view_name": "LayoutView",
            "align_content": null,
            "align_items": null,
            "align_self": null,
            "border": null,
            "bottom": null,
            "display": null,
            "flex": null,
            "flex_flow": null,
            "grid_area": null,
            "grid_auto_columns": null,
            "grid_auto_flow": null,
            "grid_auto_rows": null,
            "grid_column": null,
            "grid_gap": null,
            "grid_row": null,
            "grid_template_areas": null,
            "grid_template_columns": null,
            "grid_template_rows": null,
            "height": null,
            "justify_content": null,
            "justify_items": null,
            "left": null,
            "margin": null,
            "max_height": null,
            "max_width": null,
            "min_height": null,
            "min_width": null,
            "object_fit": null,
            "object_position": null,
            "order": null,
            "overflow": null,
            "overflow_x": null,
            "overflow_y": null,
            "padding": null,
            "right": null,
            "top": null,
            "visibility": null,
            "width": null
          }
        },
        "0493cd52f15a470cbc507dcc8cff394f": {
          "model_module": "@jupyter-widgets/base",
          "model_module_version": "1.2.0",
          "model_name": "LayoutModel",
          "state": {
            "_model_module": "@jupyter-widgets/base",
            "_model_module_version": "1.2.0",
            "_model_name": "LayoutModel",
            "_view_count": null,
            "_view_module": "@jupyter-widgets/base",
            "_view_module_version": "1.2.0",
            "_view_name": "LayoutView",
            "align_content": null,
            "align_items": null,
            "align_self": null,
            "border": null,
            "bottom": null,
            "display": null,
            "flex": null,
            "flex_flow": null,
            "grid_area": null,
            "grid_auto_columns": null,
            "grid_auto_flow": null,
            "grid_auto_rows": null,
            "grid_column": null,
            "grid_gap": null,
            "grid_row": null,
            "grid_template_areas": null,
            "grid_template_columns": null,
            "grid_template_rows": null,
            "height": null,
            "justify_content": null,
            "justify_items": null,
            "left": null,
            "margin": null,
            "max_height": null,
            "max_width": null,
            "min_height": null,
            "min_width": null,
            "object_fit": null,
            "object_position": null,
            "order": null,
            "overflow": null,
            "overflow_x": null,
            "overflow_y": null,
            "padding": null,
            "right": null,
            "top": null,
            "visibility": null,
            "width": null
          }
        },
        "0af10bdd24c545b8879ef0df6bee12e2": {
          "model_module": "@jupyter-widgets/controls",
          "model_module_version": "1.5.0",
          "model_name": "FloatProgressModel",
          "state": {
            "_dom_classes": [],
            "_model_module": "@jupyter-widgets/controls",
            "_model_module_version": "1.5.0",
            "_model_name": "FloatProgressModel",
            "_view_count": null,
            "_view_module": "@jupyter-widgets/controls",
            "_view_module_version": "1.5.0",
            "_view_name": "ProgressView",
            "bar_style": "success",
            "description": "",
            "description_tooltip": null,
            "layout": "IPY_MODEL_001f18667f9540a3af50fe00c7b50a2e",
            "max": 100,
            "min": 0,
            "orientation": "horizontal",
            "style": "IPY_MODEL_72eab2184ecd479391708a045aa5396f",
            "value": 100
          }
        },
        "382db34be861422d81185d6065707e5f": {
          "model_module": "@jupyter-widgets/controls",
          "model_module_version": "1.5.0",
          "model_name": "DescriptionStyleModel",
          "state": {
            "_model_module": "@jupyter-widgets/controls",
            "_model_module_version": "1.5.0",
            "_model_name": "DescriptionStyleModel",
            "_view_count": null,
            "_view_module": "@jupyter-widgets/base",
            "_view_module_version": "1.2.0",
            "_view_name": "StyleView",
            "description_width": ""
          }
        },
        "4c699d87949340fb92106cd67305deba": {
          "model_module": "@jupyter-widgets/controls",
          "model_module_version": "1.5.0",
          "model_name": "HTMLModel",
          "state": {
            "_dom_classes": [],
            "_model_module": "@jupyter-widgets/controls",
            "_model_module_version": "1.5.0",
            "_model_name": "HTMLModel",
            "_view_count": null,
            "_view_module": "@jupyter-widgets/controls",
            "_view_module_version": "1.5.0",
            "_view_name": "HTMLView",
            "description": "",
            "description_tooltip": null,
            "layout": "IPY_MODEL_02f5b945c44949baa45893408e656101",
            "placeholder": "​",
            "style": "IPY_MODEL_382db34be861422d81185d6065707e5f",
            "value": "100%"
          }
        },
        "54a1b435d01f4c7798e02f728362d980": {
          "model_module": "@jupyter-widgets/controls",
          "model_module_version": "1.5.0",
          "model_name": "HTMLModel",
          "state": {
            "_dom_classes": [],
            "_model_module": "@jupyter-widgets/controls",
            "_model_module_version": "1.5.0",
            "_model_name": "HTMLModel",
            "_view_count": null,
            "_view_module": "@jupyter-widgets/controls",
            "_view_module_version": "1.5.0",
            "_view_name": "HTMLView",
            "description": "",
            "description_tooltip": null,
            "layout": "IPY_MODEL_0493cd52f15a470cbc507dcc8cff394f",
            "placeholder": "​",
            "style": "IPY_MODEL_c3ab5427a1744374bd4f2ef580943c92",
            "value": " 100/100 [00:04&lt;00:00, 36.59it/s]"
          }
        },
        "72eab2184ecd479391708a045aa5396f": {
          "model_module": "@jupyter-widgets/controls",
          "model_module_version": "1.5.0",
          "model_name": "ProgressStyleModel",
          "state": {
            "_model_module": "@jupyter-widgets/controls",
            "_model_module_version": "1.5.0",
            "_model_name": "ProgressStyleModel",
            "_view_count": null,
            "_view_module": "@jupyter-widgets/base",
            "_view_module_version": "1.2.0",
            "_view_name": "StyleView",
            "bar_color": null,
            "description_width": ""
          }
        },
        "833c2a309ddf4479b911ef4be5217432": {
          "model_module": "@jupyter-widgets/controls",
          "model_module_version": "1.5.0",
          "model_name": "HBoxModel",
          "state": {
            "_dom_classes": [],
            "_model_module": "@jupyter-widgets/controls",
            "_model_module_version": "1.5.0",
            "_model_name": "HBoxModel",
            "_view_count": null,
            "_view_module": "@jupyter-widgets/controls",
            "_view_module_version": "1.5.0",
            "_view_name": "HBoxView",
            "box_style": "",
            "children": [
              "IPY_MODEL_4c699d87949340fb92106cd67305deba",
              "IPY_MODEL_0af10bdd24c545b8879ef0df6bee12e2",
              "IPY_MODEL_54a1b435d01f4c7798e02f728362d980"
            ],
            "layout": "IPY_MODEL_a0856f0084c24a61ab01cac3d1226d94"
          }
        },
        "a0856f0084c24a61ab01cac3d1226d94": {
          "model_module": "@jupyter-widgets/base",
          "model_module_version": "1.2.0",
          "model_name": "LayoutModel",
          "state": {
            "_model_module": "@jupyter-widgets/base",
            "_model_module_version": "1.2.0",
            "_model_name": "LayoutModel",
            "_view_count": null,
            "_view_module": "@jupyter-widgets/base",
            "_view_module_version": "1.2.0",
            "_view_name": "LayoutView",
            "align_content": null,
            "align_items": null,
            "align_self": null,
            "border": null,
            "bottom": null,
            "display": null,
            "flex": null,
            "flex_flow": null,
            "grid_area": null,
            "grid_auto_columns": null,
            "grid_auto_flow": null,
            "grid_auto_rows": null,
            "grid_column": null,
            "grid_gap": null,
            "grid_row": null,
            "grid_template_areas": null,
            "grid_template_columns": null,
            "grid_template_rows": null,
            "height": null,
            "justify_content": null,
            "justify_items": null,
            "left": null,
            "margin": null,
            "max_height": null,
            "max_width": null,
            "min_height": null,
            "min_width": null,
            "object_fit": null,
            "object_position": null,
            "order": null,
            "overflow": null,
            "overflow_x": null,
            "overflow_y": null,
            "padding": null,
            "right": null,
            "top": null,
            "visibility": null,
            "width": null
          }
        },
        "c3ab5427a1744374bd4f2ef580943c92": {
          "model_module": "@jupyter-widgets/controls",
          "model_module_version": "1.5.0",
          "model_name": "DescriptionStyleModel",
          "state": {
            "_model_module": "@jupyter-widgets/controls",
            "_model_module_version": "1.5.0",
            "_model_name": "DescriptionStyleModel",
            "_view_count": null,
            "_view_module": "@jupyter-widgets/base",
            "_view_module_version": "1.2.0",
            "_view_name": "StyleView",
            "description_width": ""
          }
        }
      }
    }
  },
  "nbformat": 4,
  "nbformat_minor": 5
}
