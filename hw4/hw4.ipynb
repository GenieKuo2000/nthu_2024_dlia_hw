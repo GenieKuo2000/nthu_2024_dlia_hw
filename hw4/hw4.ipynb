{
  "cells": [
    {
      "cell_type": "code",
      "execution_count": 58,
      "id": "5d1689d7",
      "metadata": {},
      "outputs": [],
      "source": [
        "import matplotlib.pyplot as plt\n",
        "import random\n",
        "from tqdm.auto import tqdm\n",
        "import cv2\n",
        "import numpy as np\n",
        "import pandas as pd\n",
        "from PIL import Image\n",
        "import torch\n",
        "from torch import nn, optim\n",
        "from torch.utils.data import DataLoader, Dataset\n",
        "from torchvision import transforms, datasets, utils\n",
        "from sklearn.preprocessing import StandardScaler, MinMaxScaler\n"
      ]
    },
    {
      "cell_type": "markdown",
      "id": "ad594fc8-4989-40f3-b124-4550fe7df386",
      "metadata": {
        "id": "ad594fc8-4989-40f3-b124-4550fe7df386"
      },
      "source": [
        "## A. Checking and Preprocessing"
      ]
    },
    {
      "cell_type": "code",
      "execution_count": 59,
      "id": "42a3eafd-cbcd-4c56-82cb-83a0bfa2399e",
      "metadata": {
        "id": "42a3eafd-cbcd-4c56-82cb-83a0bfa2399e"
      },
      "outputs": [
        {
          "data": {
            "text/html": [
              "<div>\n",
              "<style scoped>\n",
              "    .dataframe tbody tr th:only-of-type {\n",
              "        vertical-align: middle;\n",
              "    }\n",
              "\n",
              "    .dataframe tbody tr th {\n",
              "        vertical-align: top;\n",
              "    }\n",
              "\n",
              "    .dataframe thead th {\n",
              "        text-align: right;\n",
              "    }\n",
              "</style>\n",
              "<table border=\"1\" class=\"dataframe\">\n",
              "  <thead>\n",
              "    <tr style=\"text-align: right;\">\n",
              "      <th></th>\n",
              "      <th>Date</th>\n",
              "      <th>Open</th>\n",
              "      <th>High</th>\n",
              "      <th>Low</th>\n",
              "      <th>Close</th>\n",
              "      <th>Volume</th>\n",
              "      <th>OpenInt</th>\n",
              "    </tr>\n",
              "  </thead>\n",
              "  <tbody>\n",
              "    <tr>\n",
              "      <th>0</th>\n",
              "      <td>1999-01-22</td>\n",
              "      <td>1.6238</td>\n",
              "      <td>1.8092</td>\n",
              "      <td>1.4379</td>\n",
              "      <td>1.5215</td>\n",
              "      <td>18297633</td>\n",
              "      <td>0</td>\n",
              "    </tr>\n",
              "    <tr>\n",
              "      <th>1</th>\n",
              "      <td>1999-01-25</td>\n",
              "      <td>1.6423</td>\n",
              "      <td>1.6980</td>\n",
              "      <td>1.5215</td>\n",
              "      <td>1.6793</td>\n",
              "      <td>3445279</td>\n",
              "      <td>0</td>\n",
              "    </tr>\n",
              "    <tr>\n",
              "      <th>2</th>\n",
              "      <td>1999-01-26</td>\n",
              "      <td>1.6980</td>\n",
              "      <td>1.7350</td>\n",
              "      <td>1.5311</td>\n",
              "      <td>1.5494</td>\n",
              "      <td>2320993</td>\n",
              "      <td>0</td>\n",
              "    </tr>\n",
              "    <tr>\n",
              "      <th>3</th>\n",
              "      <td>1999-01-27</td>\n",
              "      <td>1.5586</td>\n",
              "      <td>1.5957</td>\n",
              "      <td>1.4660</td>\n",
              "      <td>1.5494</td>\n",
              "      <td>1662658</td>\n",
              "      <td>0</td>\n",
              "    </tr>\n",
              "    <tr>\n",
              "      <th>4</th>\n",
              "      <td>1999-01-28</td>\n",
              "      <td>1.5494</td>\n",
              "      <td>1.5586</td>\n",
              "      <td>1.5311</td>\n",
              "      <td>1.5401</td>\n",
              "      <td>1540110</td>\n",
              "      <td>0</td>\n",
              "    </tr>\n",
              "    <tr>\n",
              "      <th>...</th>\n",
              "      <td>...</td>\n",
              "      <td>...</td>\n",
              "      <td>...</td>\n",
              "      <td>...</td>\n",
              "      <td>...</td>\n",
              "      <td>...</td>\n",
              "      <td>...</td>\n",
              "    </tr>\n",
              "    <tr>\n",
              "      <th>4728</th>\n",
              "      <td>2017-11-06</td>\n",
              "      <td>207.2000</td>\n",
              "      <td>209.9800</td>\n",
              "      <td>206.7000</td>\n",
              "      <td>209.6300</td>\n",
              "      <td>9731783</td>\n",
              "      <td>0</td>\n",
              "    </tr>\n",
              "    <tr>\n",
              "      <th>4729</th>\n",
              "      <td>2017-11-07</td>\n",
              "      <td>210.5500</td>\n",
              "      <td>212.9000</td>\n",
              "      <td>210.0560</td>\n",
              "      <td>212.0000</td>\n",
              "      <td>10671815</td>\n",
              "      <td>0</td>\n",
              "    </tr>\n",
              "    <tr>\n",
              "      <th>4730</th>\n",
              "      <td>2017-11-08</td>\n",
              "      <td>211.8500</td>\n",
              "      <td>212.0000</td>\n",
              "      <td>207.2400</td>\n",
              "      <td>209.1600</td>\n",
              "      <td>13033902</td>\n",
              "      <td>0</td>\n",
              "    </tr>\n",
              "    <tr>\n",
              "      <th>4731</th>\n",
              "      <td>2017-11-09</td>\n",
              "      <td>205.2700</td>\n",
              "      <td>206.3300</td>\n",
              "      <td>200.3700</td>\n",
              "      <td>205.3200</td>\n",
              "      <td>23895006</td>\n",
              "      <td>0</td>\n",
              "    </tr>\n",
              "    <tr>\n",
              "      <th>4732</th>\n",
              "      <td>2017-11-10</td>\n",
              "      <td>213.0800</td>\n",
              "      <td>218.6700</td>\n",
              "      <td>211.6300</td>\n",
              "      <td>216.1400</td>\n",
              "      <td>31300857</td>\n",
              "      <td>0</td>\n",
              "    </tr>\n",
              "  </tbody>\n",
              "</table>\n",
              "<p>4733 rows × 7 columns</p>\n",
              "</div>"
            ],
            "text/plain": [
              "            Date      Open      High       Low     Close    Volume  OpenInt\n",
              "0     1999-01-22    1.6238    1.8092    1.4379    1.5215  18297633        0\n",
              "1     1999-01-25    1.6423    1.6980    1.5215    1.6793   3445279        0\n",
              "2     1999-01-26    1.6980    1.7350    1.5311    1.5494   2320993        0\n",
              "3     1999-01-27    1.5586    1.5957    1.4660    1.5494   1662658        0\n",
              "4     1999-01-28    1.5494    1.5586    1.5311    1.5401   1540110        0\n",
              "...          ...       ...       ...       ...       ...       ...      ...\n",
              "4728  2017-11-06  207.2000  209.9800  206.7000  209.6300   9731783        0\n",
              "4729  2017-11-07  210.5500  212.9000  210.0560  212.0000  10671815        0\n",
              "4730  2017-11-08  211.8500  212.0000  207.2400  209.1600  13033902        0\n",
              "4731  2017-11-09  205.2700  206.3300  200.3700  205.3200  23895006        0\n",
              "4732  2017-11-10  213.0800  218.6700  211.6300  216.1400  31300857        0\n",
              "\n",
              "[4733 rows x 7 columns]"
            ]
          },
          "execution_count": 59,
          "metadata": {},
          "output_type": "execute_result"
        }
      ],
      "source": [
        "df = pd.read_csv('nvda.us.txt')\n",
        "df"
      ]
    },
    {
      "cell_type": "code",
      "execution_count": 60,
      "id": "97f3e5ca-600c-42f6-88d2-8e057ca2c612",
      "metadata": {
        "id": "97f3e5ca-600c-42f6-88d2-8e057ca2c612"
      },
      "outputs": [
        {
          "data": {
            "image/png": "[encoded data removed]",
            "text/plain": [
              "<Figure size 1500x500 with 1 Axes>"
            ]
          },
          "metadata": {},
          "output_type": "display_data"
        }
      ],
      "source": [
        "plot = df.plot('Date', 'High', figsize=(15, 5))"
      ]
    },
    {
      "cell_type": "code",
      "execution_count": 61,
      "id": "34241797-60f0-4818-a44b-f5379948d621",
      "metadata": {
        "id": "34241797-60f0-4818-a44b-f5379948d621"
      },
      "outputs": [
        {
          "data": {
            "text/plain": [
              "Index(['Date', 'Open', 'High', 'Low', 'Close', 'Volume', 'OpenInt'], dtype='object')"
            ]
          },
          "execution_count": 61,
          "metadata": {},
          "output_type": "execute_result"
        }
      ],
      "source": [
        "df.columns"
      ]
    },
    {
      "cell_type": "code",
      "execution_count": 62,
      "id": "026585db-a6d8-4062-85de-e3a7eaebed72",
      "metadata": {
        "id": "026585db-a6d8-4062-85de-e3a7eaebed72"
      },
      "outputs": [
        {
          "name": "stdout",
          "output_type": "stream",
          "text": [
            "<class 'pandas.core.frame.DataFrame'>\n",
            "RangeIndex: 4733 entries, 0 to 4732\n",
            "Data columns (total 7 columns):\n",
            " #   Column   Non-Null Count  Dtype  \n",
            "---  ------   --------------  -----  \n",
            " 0   Date     4733 non-null   object \n",
            " 1   Open     4733 non-null   float64\n",
            " 2   High     4733 non-null   float64\n",
            " 3   Low      4733 non-null   float64\n",
            " 4   Close    4733 non-null   float64\n",
            " 5   Volume   4733 non-null   int64  \n",
            " 6   OpenInt  4733 non-null   int64  \n",
            "dtypes: float64(4), int64(2), object(1)\n",
            "memory usage: 259.0+ KB\n"
          ]
        }
      ],
      "source": [
        "df.info()"
      ]
    },
    {
      "cell_type": "code",
      "execution_count": 63,
      "id": "69031e6d-0fb5-49d9-b723-a0d1fee08c3c",
      "metadata": {
        "id": "69031e6d-0fb5-49d9-b723-a0d1fee08c3c"
      },
      "outputs": [
        {
          "data": {
            "text/plain": [
              "Date       0\n",
              "Open       0\n",
              "High       0\n",
              "Low        0\n",
              "Close      0\n",
              "Volume     0\n",
              "OpenInt    0\n",
              "dtype: int64"
            ]
          },
          "execution_count": 63,
          "metadata": {},
          "output_type": "execute_result"
        }
      ],
      "source": [
        "# checking for null values\n",
        "df.isnull().sum()"
      ]
    },
    {
      "cell_type": "code",
      "execution_count": 64,
      "id": "cb3090f8-2cfa-4f56-8aa5-cf954bb19932",
      "metadata": {
        "id": "cb3090f8-2cfa-4f56-8aa5-cf954bb19932"
      },
      "outputs": [],
      "source": [
        "df = df.dropna()"
      ]
    },
    {
      "cell_type": "code",
      "execution_count": 65,
      "id": "38aadbee-d68f-4ae0-b842-b40800b0cac9",
      "metadata": {
        "id": "38aadbee-d68f-4ae0-b842-b40800b0cac9"
      },
      "outputs": [
        {
          "data": {
            "text/plain": [
              "(4733, 7)"
            ]
          },
          "execution_count": 65,
          "metadata": {},
          "output_type": "execute_result"
        }
      ],
      "source": [
        "df.shape"
      ]
    },
    {
      "cell_type": "code",
      "execution_count": 66,
      "id": "564f3af0",
      "metadata": {},
      "outputs": [],
      "source": [
        "norm_data = df.copy()\n",
        "\n",
        "## 全部標準化\n",
        "# norm_data['Date'] = pd.to_datetime(norm_data['Date'])\n",
        "# title_train = norm_data.keys()\n",
        "# for col in title_train:\n",
        "#     try:\n",
        "#         norm_data[col] = (norm_data[col] - norm_data[col].min()) / (norm_data[col].max() - norm_data[col].min())\n",
        "#     except TypeError:\n",
        "#         continue\n",
        "# norm_data.shape\n",
        "\n",
        "\n",
        "scaler = MinMaxScaler(feature_range=(0,1))\n",
        "norm_data[[ 'Open','High','Low','Close']]=scaler.fit_transform(df[[ 'Open','High','Low','Close']])"
      ]
    },
    {
      "cell_type": "code",
      "execution_count": 67,
      "id": "936df382",
      "metadata": {},
      "outputs": [
        {
          "name": "stdout",
          "output_type": "stream",
          "text": [
            "            Date      Open      High       Low     Close    Volume  OpenInt\n",
            "0     1999-01-22  0.001534  0.002262  0.000970  0.001208  18297633        0\n",
            "1     1999-01-25  0.001621  0.001751  0.001367  0.001942   3445279        0\n",
            "2     1999-01-26  0.001884  0.001921  0.001413  0.001338   2320993        0\n",
            "3     1999-01-27  0.001226  0.001280  0.001103  0.001338   1662658        0\n",
            "4     1999-01-28  0.001183  0.001109  0.001413  0.001295   1540110        0\n",
            "...          ...       ...       ...       ...       ...       ...      ...\n",
            "4728  2017-11-06  0.972235  0.960019  0.976568  0.969704   9731783        0\n",
            "4729  2017-11-07  0.988054  0.973453  0.992519  0.980733  10671815        0\n",
            "4730  2017-11-08  0.994192  0.969313  0.979135  0.967516  13033902        0\n",
            "4731  2017-11-09  0.963122  0.943226  0.946482  0.949646  23895006        0\n",
            "4732  2017-11-10  1.000000  1.000000  1.000000  1.000000  31300857        0\n",
            "\n",
            "[4733 rows x 7 columns]\n"
          ]
        }
      ],
      "source": [
        "print(norm_data)"
      ]
    },
    {
      "cell_type": "code",
      "execution_count": 68,
      "id": "47deb2ab",
      "metadata": {},
      "outputs": [
        {
          "data": {
            "text/html": [
              "<div>\n",
              "<style scoped>\n",
              "    .dataframe tbody tr th:only-of-type {\n",
              "        vertical-align: middle;\n",
              "    }\n",
              "\n",
              "    .dataframe tbody tr th {\n",
              "        vertical-align: top;\n",
              "    }\n",
              "\n",
              "    .dataframe thead th {\n",
              "        text-align: right;\n",
              "    }\n",
              "</style>\n",
              "<table border=\"1\" class=\"dataframe\">\n",
              "  <thead>\n",
              "    <tr style=\"text-align: right;\">\n",
              "      <th></th>\n",
              "      <th>Open</th>\n",
              "      <th>High</th>\n",
              "      <th>Low</th>\n",
              "      <th>Close</th>\n",
              "      <th>Volume</th>\n",
              "      <th>OpenInt</th>\n",
              "    </tr>\n",
              "  </thead>\n",
              "  <tbody>\n",
              "    <tr>\n",
              "      <th>count</th>\n",
              "      <td>4733.000000</td>\n",
              "      <td>4733.000000</td>\n",
              "      <td>4733.000000</td>\n",
              "      <td>4733.000000</td>\n",
              "      <td>4.733000e+03</td>\n",
              "      <td>4733.0</td>\n",
              "    </tr>\n",
              "    <tr>\n",
              "      <th>mean</th>\n",
              "      <td>0.092064</td>\n",
              "      <td>0.091280</td>\n",
              "      <td>0.091192</td>\n",
              "      <td>0.090952</td>\n",
              "      <td>1.615287e+07</td>\n",
              "      <td>0.0</td>\n",
              "    </tr>\n",
              "    <tr>\n",
              "      <th>std</th>\n",
              "      <td>0.142771</td>\n",
              "      <td>0.140857</td>\n",
              "      <td>0.141604</td>\n",
              "      <td>0.140841</td>\n",
              "      <td>1.272446e+07</td>\n",
              "      <td>0.0</td>\n",
              "    </tr>\n",
              "    <tr>\n",
              "      <th>min</th>\n",
              "      <td>0.000000</td>\n",
              "      <td>0.000000</td>\n",
              "      <td>0.000000</td>\n",
              "      <td>0.000000</td>\n",
              "      <td>0.000000e+00</td>\n",
              "      <td>0.0</td>\n",
              "    </tr>\n",
              "    <tr>\n",
              "      <th>25%</th>\n",
              "      <td>0.031586</td>\n",
              "      <td>0.031886</td>\n",
              "      <td>0.031001</td>\n",
              "      <td>0.031260</td>\n",
              "      <td>8.181100e+06</td>\n",
              "      <td>0.0</td>\n",
              "    </tr>\n",
              "    <tr>\n",
              "      <th>50%</th>\n",
              "      <td>0.055076</td>\n",
              "      <td>0.054844</td>\n",
              "      <td>0.054597</td>\n",
              "      <td>0.054580</td>\n",
              "      <td>1.390271e+07</td>\n",
              "      <td>0.0</td>\n",
              "    </tr>\n",
              "    <tr>\n",
              "      <th>75%</th>\n",
              "      <td>0.084248</td>\n",
              "      <td>0.083277</td>\n",
              "      <td>0.083386</td>\n",
              "      <td>0.083043</td>\n",
              "      <td>2.051602e+07</td>\n",
              "      <td>0.0</td>\n",
              "    </tr>\n",
              "    <tr>\n",
              "      <th>max</th>\n",
              "      <td>1.000000</td>\n",
              "      <td>1.000000</td>\n",
              "      <td>1.000000</td>\n",
              "      <td>1.000000</td>\n",
              "      <td>2.496659e+08</td>\n",
              "      <td>0.0</td>\n",
              "    </tr>\n",
              "  </tbody>\n",
              "</table>\n",
              "</div>"
            ],
            "text/plain": [
              "              Open         High          Low        Close        Volume  \\\n",
              "count  4733.000000  4733.000000  4733.000000  4733.000000  4.733000e+03   \n",
              "mean      0.092064     0.091280     0.091192     0.090952  1.615287e+07   \n",
              "std       0.142771     0.140857     0.141604     0.140841  1.272446e+07   \n",
              "min       0.000000     0.000000     0.000000     0.000000  0.000000e+00   \n",
              "25%       0.031586     0.031886     0.031001     0.031260  8.181100e+06   \n",
              "50%       0.055076     0.054844     0.054597     0.054580  1.390271e+07   \n",
              "75%       0.084248     0.083277     0.083386     0.083043  2.051602e+07   \n",
              "max       1.000000     1.000000     1.000000     1.000000  2.496659e+08   \n",
              "\n",
              "       OpenInt  \n",
              "count   4733.0  \n",
              "mean       0.0  \n",
              "std        0.0  \n",
              "min        0.0  \n",
              "25%        0.0  \n",
              "50%        0.0  \n",
              "75%        0.0  \n",
              "max        0.0  "
            ]
          },
          "execution_count": 68,
          "metadata": {},
          "output_type": "execute_result"
        }
      ],
      "source": [
        "norm_data.describe()"
      ]
    },
    {
      "cell_type": "code",
      "execution_count": 69,
      "id": "051108c6-7011-4187-9e36-bd2944a019ca",
      "metadata": {
        "id": "051108c6-7011-4187-9e36-bd2944a019ca"
      },
      "outputs": [
        {
          "data": {
            "text/html": [
              "<div>\n",
              "<style scoped>\n",
              "    .dataframe tbody tr th:only-of-type {\n",
              "        vertical-align: middle;\n",
              "    }\n",
              "\n",
              "    .dataframe tbody tr th {\n",
              "        vertical-align: top;\n",
              "    }\n",
              "\n",
              "    .dataframe thead th {\n",
              "        text-align: right;\n",
              "    }\n",
              "</style>\n",
              "<table border=\"1\" class=\"dataframe\">\n",
              "  <thead>\n",
              "    <tr style=\"text-align: right;\">\n",
              "      <th></th>\n",
              "      <th>Open</th>\n",
              "      <th>High</th>\n",
              "      <th>Low</th>\n",
              "      <th>Close</th>\n",
              "      <th>Volume</th>\n",
              "      <th>OpenInt</th>\n",
              "    </tr>\n",
              "  </thead>\n",
              "  <tbody>\n",
              "    <tr>\n",
              "      <th>count</th>\n",
              "      <td>4733.000000</td>\n",
              "      <td>4733.000000</td>\n",
              "      <td>4733.000000</td>\n",
              "      <td>4733.000000</td>\n",
              "      <td>4.733000e+03</td>\n",
              "      <td>4733.0</td>\n",
              "    </tr>\n",
              "    <tr>\n",
              "      <th>mean</th>\n",
              "      <td>20.796242</td>\n",
              "      <td>21.157332</td>\n",
              "      <td>20.420417</td>\n",
              "      <td>20.805404</td>\n",
              "      <td>1.615287e+07</td>\n",
              "      <td>0.0</td>\n",
              "    </tr>\n",
              "    <tr>\n",
              "      <th>std</th>\n",
              "      <td>30.236284</td>\n",
              "      <td>30.615622</td>\n",
              "      <td>29.792958</td>\n",
              "      <td>30.263705</td>\n",
              "      <td>1.272446e+07</td>\n",
              "      <td>0.0</td>\n",
              "    </tr>\n",
              "    <tr>\n",
              "      <th>min</th>\n",
              "      <td>1.298900</td>\n",
              "      <td>1.317500</td>\n",
              "      <td>1.233900</td>\n",
              "      <td>1.261900</td>\n",
              "      <td>0.000000e+00</td>\n",
              "      <td>0.0</td>\n",
              "    </tr>\n",
              "    <tr>\n",
              "      <th>25%</th>\n",
              "      <td>7.988300</td>\n",
              "      <td>8.247900</td>\n",
              "      <td>7.756400</td>\n",
              "      <td>7.978900</td>\n",
              "      <td>8.181100e+06</td>\n",
              "      <td>0.0</td>\n",
              "    </tr>\n",
              "    <tr>\n",
              "      <th>50%</th>\n",
              "      <td>12.963000</td>\n",
              "      <td>13.238000</td>\n",
              "      <td>12.721000</td>\n",
              "      <td>12.990000</td>\n",
              "      <td>1.390271e+07</td>\n",
              "      <td>0.0</td>\n",
              "    </tr>\n",
              "    <tr>\n",
              "      <th>75%</th>\n",
              "      <td>19.141000</td>\n",
              "      <td>19.418000</td>\n",
              "      <td>18.778000</td>\n",
              "      <td>19.106000</td>\n",
              "      <td>2.051602e+07</td>\n",
              "      <td>0.0</td>\n",
              "    </tr>\n",
              "    <tr>\n",
              "      <th>max</th>\n",
              "      <td>213.080000</td>\n",
              "      <td>218.670000</td>\n",
              "      <td>211.630000</td>\n",
              "      <td>216.140000</td>\n",
              "      <td>2.496659e+08</td>\n",
              "      <td>0.0</td>\n",
              "    </tr>\n",
              "  </tbody>\n",
              "</table>\n",
              "</div>"
            ],
            "text/plain": [
              "              Open         High          Low        Close        Volume  \\\n",
              "count  4733.000000  4733.000000  4733.000000  4733.000000  4.733000e+03   \n",
              "mean     20.796242    21.157332    20.420417    20.805404  1.615287e+07   \n",
              "std      30.236284    30.615622    29.792958    30.263705  1.272446e+07   \n",
              "min       1.298900     1.317500     1.233900     1.261900  0.000000e+00   \n",
              "25%       7.988300     8.247900     7.756400     7.978900  8.181100e+06   \n",
              "50%      12.963000    13.238000    12.721000    12.990000  1.390271e+07   \n",
              "75%      19.141000    19.418000    18.778000    19.106000  2.051602e+07   \n",
              "max     213.080000   218.670000   211.630000   216.140000  2.496659e+08   \n",
              "\n",
              "       OpenInt  \n",
              "count   4733.0  \n",
              "mean       0.0  \n",
              "std        0.0  \n",
              "min        0.0  \n",
              "25%        0.0  \n",
              "50%        0.0  \n",
              "75%        0.0  \n",
              "max        0.0  "
            ]
          },
          "execution_count": 69,
          "metadata": {},
          "output_type": "execute_result"
        }
      ],
      "source": [
        "df.describe()"
      ]
    },
    {
      "cell_type": "markdown",
      "id": "8ce7a0c5-76d6-4863-ba61-0544a220962a",
      "metadata": {
        "id": "8ce7a0c5-76d6-4863-ba61-0544a220962a"
      },
      "source": [
        "#### Converting the DataFrame to a NumPy Array"
      ]
    },
    {
      "cell_type": "code",
      "execution_count": 70,
      "id": "5735baad-2db8-4306-aa4c-7788d2b49621",
      "metadata": {
        "id": "5735baad-2db8-4306-aa4c-7788d2b49621"
      },
      "outputs": [],
      "source": [
        "def create_sequences(input_data, output_data, window_size, step):  \n",
        "    sequences = []\n",
        "    labels = []\n",
        "    for i in range(0, len(input_data) - window_size, step):\n",
        "        sequences.append(input_data[i:(i + window_size)])\n",
        "        labels.append(output_data[i + window_size])\n",
        "    return np.array(sequences), np.array(labels)"
      ]
    },
    {
      "cell_type": "code",
      "execution_count": 71,
      "id": "29b8e189-7f39-435a-8038-39098b147325",
      "metadata": {
        "id": "29b8e189-7f39-435a-8038-39098b147325"
      },
      "outputs": [
        {
          "name": "stdout",
          "output_type": "stream",
          "text": [
            "Shape of data X: (943, 20, 3)\n",
            "Shape of data y: (943,)\n",
            "Shape of data x_train: (679, 20, 3)\n",
            "Shape of data y_train: (679,)\n",
            "Shape of data x_val: (170, 20, 3)\n",
            "Shape of data y_val: (170,)\n",
            "Shape of data x_test: (94, 20, 3)\n",
            "Shape of data y_test: (94,)\n",
            "Number of samples in training and validation are 679 and 170.\n"
          ]
        }
      ],
      "source": [
        "import numpy as np\n",
        "import torch\n",
        "from torch.utils.data import DataLoader, TensorDataset\n",
        "import matplotlib.pyplot as plt\n",
        "\n",
        "\n",
        "# Select features\n",
        "features = df[[ 'Open','High','Low']] ###取Volume  ##需要把這四個都當input嗎 還是拿特定幾個當input feature就好?\n",
        "labels = df['High'].shift(-1)  # Next day's high price as label\n",
        "\n",
        "X, y = create_sequences(features, labels, window_size=20, step=5) ## 從第一天開始抓10個 預測第11天的股價，step:當10天包好之後 會跳15個 為甚麼要大於window_size?\n",
        "\n",
        "print(f'Shape of data X: {X.shape}')\n",
        "print(f'Shape of data y: {y.shape}')\n",
        "\n",
        "# split the hold-out tests\n",
        "ind = np.linspace(0, len(X)-1, num=int(len(X)*0.1), dtype=int) # 10% hold-out\n",
        "x_test = X[ind]\n",
        "y_test = y[ind]\n",
        "all_ind = np.arange(len(X))\n",
        "remains_ind = np.delete(all_ind, ind)\n",
        "\n",
        "X = X[remains_ind]\n",
        "y = y[remains_ind]\n",
        "\n",
        "# shuffle dataset\n",
        "ind = np.random.permutation(len(X))\n",
        "X = X[ind]\n",
        "y = y[ind]\n",
        "split_point = int(X.shape[0]*0.8)\n",
        "\n",
        "x_train = X[:split_point]\n",
        "y_train = y[:split_point]\n",
        "x_val = X[split_point:]\n",
        "y_val = y[split_point:]\n",
        "\n",
        "print(f'Shape of data x_train: {x_train.shape}') #(315,10,4) 最後包出315分，每份有10天，每天input data有4個\n",
        "print(f'Shape of data y_train: {y_train.shape}')\n",
        "print(f'Shape of data x_val: {x_val.shape}')\n",
        "print(f'Shape of data y_val: {y_val.shape}')\n",
        "print(f'Shape of data x_test: {x_test.shape}')\n",
        "print(f'Shape of data y_test: {y_test.shape}')\n",
        "\n",
        "# Convert to PyTorch tensors\n",
        "x_train = torch.from_numpy(x_train).float()\n",
        "y_train = torch.from_numpy(y_train).float()\n",
        "\n",
        "x_val = torch.from_numpy(x_val).float()\n",
        "y_val = torch.from_numpy(y_val).float()\n",
        "\n",
        "x_test = torch.from_numpy(x_test).float()\n",
        "y_test = torch.from_numpy(y_test).float()\n",
        "\n",
        "batch_size = 32\n",
        "\n",
        "# Create datasets\n",
        "train_dataset = TensorDataset(x_train, y_train)\n",
        "val_dataset = TensorDataset(x_val, y_val)\n",
        "test_dataset = TensorDataset(x_test, y_test)\n",
        "\n",
        "# Create dataloaders\n",
        "train_loader = DataLoader(train_dataset, batch_size=batch_size, shuffle=True)\n",
        "val_loader = DataLoader(val_dataset, batch_size=batch_size, shuffle=False)\n",
        "test_loader = DataLoader(test_dataset, batch_size=batch_size, shuffle=False)\n",
        "\n",
        "print(f'Number of samples in training and validation are {len(train_loader.dataset)} and {len(val_loader.dataset)}.')"
      ]
    },
    {
      "cell_type": "markdown",
      "id": "8ffc26b9-6044-41e9-93e2-7dc6250dbd27",
      "metadata": {
        "id": "8ffc26b9-6044-41e9-93e2-7dc6250dbd27"
      },
      "source": [
        "## B. Defining Neural Networks"
      ]
    },
    {
      "cell_type": "code",
      "execution_count": 72,
      "id": "77975746-a7a7-4676-9527-57674cd98c0f",
      "metadata": {
        "id": "77975746-a7a7-4676-9527-57674cd98c0f"
      },
      "outputs": [],
      "source": [
        "import torch.nn as nn\n",
        "\n",
        "class LSTMModel(nn.Module):\n",
        "    def __init__(self, input_dim, hidden_dim, num_layers, output_dim):\n",
        "        super().__init__()\n",
        "        self.hidden_dim = hidden_dim\n",
        "        self.num_layers = num_layers\n",
        "        self.lstm = nn.LSTM(input_dim, hidden_dim, num_layers, batch_first=True)\n",
        "        self.fc = nn.Linear(hidden_dim, output_dim)\n",
        "\n",
        "    def forward(self, x):\n",
        "        out, _ = self.lstm(x)\n",
        "        out = self.fc(out[:, -1, :])\n",
        "        return out"
      ]
    },
    {
      "cell_type": "markdown",
      "id": "cbb8b5b0-0ec0-406c-a42e-048aa00e05aa",
      "metadata": {
        "id": "cbb8b5b0-0ec0-406c-a42e-048aa00e05aa"
      },
      "source": [
        "## C. Training the Neural Network"
      ]
    },
    {
      "cell_type": "code",
      "execution_count": 73,
      "id": "3602ae7d-4034-4c49-b221-0c12a5824b18",
      "metadata": {
        "id": "3602ae7d-4034-4c49-b221-0c12a5824b18"
      },
      "outputs": [
        {
          "name": "stdout",
          "output_type": "stream",
          "text": [
            "Wed May  1 16:51:15 2024       \n",
            "+---------------------------------------------------------------------------------------+\n",
            "| NVIDIA-SMI 536.23                 Driver Version: 536.23       CUDA Version: 12.2     |\n",
            "|-----------------------------------------+----------------------+----------------------+\n",
            "| GPU  Name                     TCC/WDDM  | Bus-Id        Disp.A | Volatile Uncorr. ECC |\n",
            "| Fan  Temp   Perf          Pwr:Usage/Cap |         Memory-Usage | GPU-Util  Compute M. |\n",
            "|                                         |                      |               MIG M. |\n",
            "|=========================================+======================+======================|\n",
            "|   0  NVIDIA GeForce GTX 1060 6GB  WDDM  | 00000000:01:00.0  On |                  N/A |\n",
            "|  0%   50C    P8              12W / 120W |   2367MiB /  6144MiB |     15%      Default |\n",
            "|                                         |                      |                  N/A |\n",
            "+-----------------------------------------+----------------------+----------------------+\n",
            "                                                                                         \n",
            "+---------------------------------------------------------------------------------------+\n",
            "| Processes:                                                                            |\n",
            "|  GPU   GI   CI        PID   Type   Process name                            GPU Memory |\n",
            "|        ID   ID                                                             Usage      |\n",
            "|=======================================================================================|\n",
            "|    0   N/A  N/A      2440    C+G   ...t.LockApp_cw5n1h2txyewy\\LockApp.exe    N/A      |\n",
            "|    0   N/A  N/A      2488    C+G   ...ekyb3d8bbwe\\PhoneExperienceHost.exe    N/A      |\n",
            "|    0   N/A  N/A      4700    C+G   ...2txyewy\\StartMenuExperienceHost.exe    N/A      |\n",
            "|    0   N/A  N/A      4808    C+G   ...crosoft\\Edge\\Application\\msedge.exe    N/A      |\n",
            "|    0   N/A  N/A      5340    C+G   ...ata\\Local\\LINE\\bin\\current\\LINE.exe    N/A      |\n",
            "|    0   N/A  N/A      7704    C+G   ...pIntegrations\\Grammarly.Desktop.exe    N/A      |\n",
            "|    0   N/A  N/A     10028    C+G   ...gin\\LineCall\\1.0.0.714\\LineCall.exe    N/A      |\n",
            "|    0   N/A  N/A     10984    C+G   C:\\Windows\\explorer.exe                   N/A      |\n",
            "|    0   N/A  N/A     11160    C+G   ...on\\123.0.2420.97\\msedgewebview2.exe    N/A      |\n",
            "|    0   N/A  N/A     11164    C+G   ...5n1h2txyewy\\ShellExperienceHost.exe    N/A      |\n",
            "|    0   N/A  N/A     11452    C+G   ...l\\Microsoft\\Teams\\current\\Teams.exe    N/A      |\n",
            "|    0   N/A  N/A     11956    C+G   ....Search_cw5n1h2txyewy\\SearchApp.exe    N/A      |\n",
            "|    0   N/A  N/A     13772    C+G   ...siveControlPanel\\SystemSettings.exe    N/A      |\n",
            "|    0   N/A  N/A     14016    C+G   ...oogle\\Chrome\\Application\\chrome.exe    N/A      |\n",
            "|    0   N/A  N/A     14680    C+G   ...Programs\\Microsoft VS Code\\Code.exe    N/A      |\n",
            "|    0   N/A  N/A     15940    C+G   ...CBS_cw5n1h2txyewy\\TextInputHost.exe    N/A      |\n",
            "|    0   N/A  N/A     17596    C+G   ...1.0_x64__8wekyb3d8bbwe\\Video.UI.exe    N/A      |\n",
            "|    0   N/A  N/A     17652    C+G   ...les\\Microsoft OneDrive\\OneDrive.exe    N/A      |\n",
            "|    0   N/A  N/A     18032    C+G   ...l\\Microsoft\\Teams\\current\\Teams.exe    N/A      |\n",
            "|    0   N/A  N/A     23744    C+G   ...b3d8bbwe\\Microsoft.Media.Player.exe    N/A      |\n",
            "|    0   N/A  N/A     24124    C+G   ...ft Office\\root\\Office16\\WINWORD.EXE    N/A      |\n",
            "|    0   N/A  N/A     25820      C   ...o\\anaconda3\\envs\\pytorch\\python.exe    N/A      |\n",
            "+---------------------------------------------------------------------------------------+\n"
          ]
        }
      ],
      "source": [
        "# Check your GPU status.\n",
        "!nvidia-smi"
      ]
    },
    {
      "cell_type": "code",
      "execution_count": 74,
      "id": "f73a5c35-c15d-49bb-8a33-a7f017159499",
      "metadata": {
        "id": "f73a5c35-c15d-49bb-8a33-a7f017159499"
      },
      "outputs": [
        {
          "name": "stdout",
          "output_type": "stream",
          "text": [
            "LSTMModel(\n",
            "  (lstm): LSTM(3, 500, num_layers=2, batch_first=True)\n",
            "  (fc): Linear(in_features=500, out_features=1, bias=True)\n",
            ")\n"
          ]
        },
        {
          "name": "stderr",
          "output_type": "stream",
          "text": [
            "  1%|          | 1/100 [00:00<00:52,  1.89it/s]"
          ]
        },
        {
          "name": "stdout",
          "output_type": "stream",
          "text": [
            "Epoch 1/100, Train loss: 989.9676, Val loss: 942.8641, Best Val loss: 942.8641\n"
          ]
        },
        {
          "name": "stderr",
          "output_type": "stream",
          "text": [
            "  2%|▏         | 2/100 [00:00<00:37,  2.62it/s]"
          ]
        },
        {
          "name": "stdout",
          "output_type": "stream",
          "text": [
            "Epoch 2/100, Train loss: 864.4206, Val loss: 931.0836, Best Val loss: 931.0836\n"
          ]
        },
        {
          "name": "stderr",
          "output_type": "stream",
          "text": [
            "  3%|▎         | 3/100 [00:01<00:32,  3.02it/s]"
          ]
        },
        {
          "name": "stdout",
          "output_type": "stream",
          "text": [
            "Epoch 3/100, Train loss: 866.2192, Val loss: 930.0360, Best Val loss: 930.0360\n"
          ]
        },
        {
          "name": "stderr",
          "output_type": "stream",
          "text": [
            "  4%|▍         | 4/100 [00:01<00:30,  3.18it/s]"
          ]
        },
        {
          "name": "stdout",
          "output_type": "stream",
          "text": [
            "Epoch 4/100, Train loss: 863.2774, Val loss: 925.6709, Best Val loss: 925.6709\n"
          ]
        },
        {
          "name": "stderr",
          "output_type": "stream",
          "text": [
            "  5%|▌         | 5/100 [00:01<00:28,  3.31it/s]"
          ]
        },
        {
          "name": "stdout",
          "output_type": "stream",
          "text": [
            "Epoch 5/100, Train loss: 1007.3407, Val loss: 920.5808, Best Val loss: 920.5808\n"
          ]
        },
        {
          "name": "stderr",
          "output_type": "stream",
          "text": [
            "  6%|▌         | 6/100 [00:01<00:27,  3.40it/s]"
          ]
        },
        {
          "name": "stdout",
          "output_type": "stream",
          "text": [
            "Epoch 6/100, Train loss: 851.1003, Val loss: 913.0110, Best Val loss: 913.0110\n"
          ]
        },
        {
          "name": "stderr",
          "output_type": "stream",
          "text": [
            "  7%|▋         | 7/100 [00:02<00:27,  3.43it/s]"
          ]
        },
        {
          "name": "stdout",
          "output_type": "stream",
          "text": [
            "Epoch 7/100, Train loss: 846.9930, Val loss: 906.8485, Best Val loss: 906.8485\n"
          ]
        },
        {
          "name": "stderr",
          "output_type": "stream",
          "text": [
            "  8%|▊         | 8/100 [00:02<00:26,  3.48it/s]"
          ]
        },
        {
          "name": "stdout",
          "output_type": "stream",
          "text": [
            "Epoch 8/100, Train loss: 952.9862, Val loss: 898.1336, Best Val loss: 898.1336\n"
          ]
        },
        {
          "name": "stderr",
          "output_type": "stream",
          "text": [
            "  9%|▉         | 9/100 [00:02<00:25,  3.52it/s]"
          ]
        },
        {
          "name": "stdout",
          "output_type": "stream",
          "text": [
            "Epoch 9/100, Train loss: 831.6891, Val loss: 884.8606, Best Val loss: 884.8606\n"
          ]
        },
        {
          "name": "stderr",
          "output_type": "stream",
          "text": [
            " 10%|█         | 10/100 [00:03<00:25,  3.55it/s]"
          ]
        },
        {
          "name": "stdout",
          "output_type": "stream",
          "text": [
            "Epoch 10/100, Train loss: 819.1091, Val loss: 870.7019, Best Val loss: 870.7019\n"
          ]
        },
        {
          "name": "stderr",
          "output_type": "stream",
          "text": [
            " 11%|█         | 11/100 [00:03<00:24,  3.57it/s]"
          ]
        },
        {
          "name": "stdout",
          "output_type": "stream",
          "text": [
            "Epoch 11/100, Train loss: 804.3871, Val loss: 853.8309, Best Val loss: 853.8309\n"
          ]
        },
        {
          "name": "stderr",
          "output_type": "stream",
          "text": [
            " 12%|█▏        | 12/100 [00:03<00:24,  3.60it/s]"
          ]
        },
        {
          "name": "stdout",
          "output_type": "stream",
          "text": [
            "Epoch 12/100, Train loss: 896.3508, Val loss: 838.2872, Best Val loss: 838.2872\n"
          ]
        },
        {
          "name": "stderr",
          "output_type": "stream",
          "text": [
            " 13%|█▎        | 13/100 [00:03<00:24,  3.62it/s]"
          ]
        },
        {
          "name": "stdout",
          "output_type": "stream",
          "text": [
            "Epoch 13/100, Train loss: 771.8200, Val loss: 814.5888, Best Val loss: 814.5888\n"
          ]
        },
        {
          "name": "stderr",
          "output_type": "stream",
          "text": [
            " 14%|█▍        | 14/100 [00:04<00:23,  3.64it/s]"
          ]
        },
        {
          "name": "stdout",
          "output_type": "stream",
          "text": [
            "Epoch 14/100, Train loss: 753.1124, Val loss: 792.3747, Best Val loss: 792.3747\n"
          ]
        },
        {
          "name": "stderr",
          "output_type": "stream",
          "text": [
            " 15%|█▌        | 15/100 [00:04<00:23,  3.65it/s]"
          ]
        },
        {
          "name": "stdout",
          "output_type": "stream",
          "text": [
            "Epoch 15/100, Train loss: 870.4133, Val loss: 767.5540, Best Val loss: 767.5540\n"
          ]
        },
        {
          "name": "stderr",
          "output_type": "stream",
          "text": [
            " 16%|█▌        | 16/100 [00:04<00:22,  3.67it/s]"
          ]
        },
        {
          "name": "stdout",
          "output_type": "stream",
          "text": [
            "Epoch 16/100, Train loss: 695.3349, Val loss: 704.6969, Best Val loss: 704.6969\n"
          ]
        },
        {
          "name": "stderr",
          "output_type": "stream",
          "text": [
            " 17%|█▋        | 17/100 [00:04<00:22,  3.67it/s]"
          ]
        },
        {
          "name": "stdout",
          "output_type": "stream",
          "text": [
            "Epoch 17/100, Train loss: 692.6749, Val loss: 585.8455, Best Val loss: 585.8455\n"
          ]
        },
        {
          "name": "stderr",
          "output_type": "stream",
          "text": [
            " 18%|█▊        | 18/100 [00:05<00:22,  3.67it/s]"
          ]
        },
        {
          "name": "stdout",
          "output_type": "stream",
          "text": [
            "Epoch 18/100, Train loss: 508.8856, Val loss: 492.5999, Best Val loss: 492.5999\n"
          ]
        },
        {
          "name": "stderr",
          "output_type": "stream",
          "text": [
            " 19%|█▉        | 19/100 [00:05<00:22,  3.67it/s]"
          ]
        },
        {
          "name": "stdout",
          "output_type": "stream",
          "text": [
            "Epoch 19/100, Train loss: 436.3208, Val loss: 410.4975, Best Val loss: 410.4975\n"
          ]
        },
        {
          "name": "stderr",
          "output_type": "stream",
          "text": [
            " 20%|██        | 20/100 [00:05<00:21,  3.65it/s]"
          ]
        },
        {
          "name": "stdout",
          "output_type": "stream",
          "text": [
            "Epoch 20/100, Train loss: 381.5267, Val loss: 356.9073, Best Val loss: 356.9073\n"
          ]
        },
        {
          "name": "stderr",
          "output_type": "stream",
          "text": [
            " 21%|██        | 21/100 [00:06<00:21,  3.61it/s]"
          ]
        },
        {
          "name": "stdout",
          "output_type": "stream",
          "text": [
            "Epoch 21/100, Train loss: 323.9972, Val loss: 306.9309, Best Val loss: 306.9309\n"
          ]
        },
        {
          "name": "stderr",
          "output_type": "stream",
          "text": [
            " 22%|██▏       | 22/100 [00:06<00:21,  3.62it/s]"
          ]
        },
        {
          "name": "stdout",
          "output_type": "stream",
          "text": [
            "Epoch 22/100, Train loss: 283.9689, Val loss: 266.5791, Best Val loss: 266.5791\n"
          ]
        },
        {
          "name": "stderr",
          "output_type": "stream",
          "text": [
            " 23%|██▎       | 23/100 [00:06<00:21,  3.65it/s]"
          ]
        },
        {
          "name": "stdout",
          "output_type": "stream",
          "text": [
            "Epoch 23/100, Train loss: 250.0169, Val loss: 233.2116, Best Val loss: 233.2116\n"
          ]
        },
        {
          "name": "stderr",
          "output_type": "stream",
          "text": [
            " 24%|██▍       | 24/100 [00:06<00:21,  3.58it/s]"
          ]
        },
        {
          "name": "stdout",
          "output_type": "stream",
          "text": [
            "Epoch 24/100, Train loss: 229.7504, Val loss: 205.9166, Best Val loss: 205.9166\n"
          ]
        },
        {
          "name": "stderr",
          "output_type": "stream",
          "text": [
            " 25%|██▌       | 25/100 [00:07<00:20,  3.59it/s]"
          ]
        },
        {
          "name": "stdout",
          "output_type": "stream",
          "text": [
            "Epoch 25/100, Train loss: 197.2060, Val loss: 184.0193, Best Val loss: 184.0193\n"
          ]
        },
        {
          "name": "stderr",
          "output_type": "stream",
          "text": [
            " 26%|██▌       | 26/100 [00:07<00:20,  3.60it/s]"
          ]
        },
        {
          "name": "stdout",
          "output_type": "stream",
          "text": [
            "Epoch 26/100, Train loss: 179.4539, Val loss: 164.9820, Best Val loss: 164.9820\n"
          ]
        },
        {
          "name": "stderr",
          "output_type": "stream",
          "text": [
            " 27%|██▋       | 27/100 [00:07<00:20,  3.59it/s]"
          ]
        },
        {
          "name": "stdout",
          "output_type": "stream",
          "text": [
            "Epoch 27/100, Train loss: 160.7253, Val loss: 146.3152, Best Val loss: 146.3152\n"
          ]
        },
        {
          "name": "stderr",
          "output_type": "stream",
          "text": [
            " 28%|██▊       | 28/100 [00:07<00:19,  3.61it/s]"
          ]
        },
        {
          "name": "stdout",
          "output_type": "stream",
          "text": [
            "Epoch 28/100, Train loss: 159.2349, Val loss: 133.1252, Best Val loss: 133.1252\n"
          ]
        },
        {
          "name": "stderr",
          "output_type": "stream",
          "text": [
            " 29%|██▉       | 29/100 [00:08<00:19,  3.64it/s]"
          ]
        },
        {
          "name": "stdout",
          "output_type": "stream",
          "text": [
            "Epoch 29/100, Train loss: 130.8636, Val loss: 123.7188, Best Val loss: 123.7188\n"
          ]
        },
        {
          "name": "stderr",
          "output_type": "stream",
          "text": [
            " 30%|███       | 30/100 [00:08<00:19,  3.62it/s]"
          ]
        },
        {
          "name": "stdout",
          "output_type": "stream",
          "text": [
            "Epoch 30/100, Train loss: 123.8432, Val loss: 112.0902, Best Val loss: 112.0902\n"
          ]
        },
        {
          "name": "stderr",
          "output_type": "stream",
          "text": [
            " 31%|███       | 31/100 [00:08<00:18,  3.64it/s]"
          ]
        },
        {
          "name": "stdout",
          "output_type": "stream",
          "text": [
            "Epoch 31/100, Train loss: 131.4880, Val loss: 103.0371, Best Val loss: 103.0371\n"
          ]
        },
        {
          "name": "stderr",
          "output_type": "stream",
          "text": [
            " 32%|███▏      | 32/100 [00:09<00:18,  3.63it/s]"
          ]
        },
        {
          "name": "stdout",
          "output_type": "stream",
          "text": [
            "Epoch 32/100, Train loss: 101.8728, Val loss: 92.5729, Best Val loss: 92.5729\n"
          ]
        },
        {
          "name": "stderr",
          "output_type": "stream",
          "text": [
            " 33%|███▎      | 33/100 [00:09<00:18,  3.63it/s]"
          ]
        },
        {
          "name": "stdout",
          "output_type": "stream",
          "text": [
            "Epoch 33/100, Train loss: 93.7572, Val loss: 84.2303, Best Val loss: 84.2303\n"
          ]
        },
        {
          "name": "stderr",
          "output_type": "stream",
          "text": [
            " 34%|███▍      | 34/100 [00:09<00:18,  3.58it/s]"
          ]
        },
        {
          "name": "stdout",
          "output_type": "stream",
          "text": [
            "Epoch 34/100, Train loss: 86.7319, Val loss: 77.9805, Best Val loss: 77.9805\n"
          ]
        },
        {
          "name": "stderr",
          "output_type": "stream",
          "text": [
            " 35%|███▌      | 35/100 [00:09<00:17,  3.62it/s]"
          ]
        },
        {
          "name": "stdout",
          "output_type": "stream",
          "text": [
            "Epoch 35/100, Train loss: 81.7433, Val loss: 74.4432, Best Val loss: 74.4432\n"
          ]
        },
        {
          "name": "stderr",
          "output_type": "stream",
          "text": [
            " 36%|███▌      | 36/100 [00:10<00:17,  3.62it/s]"
          ]
        },
        {
          "name": "stdout",
          "output_type": "stream",
          "text": [
            "Epoch 36/100, Train loss: 78.9948, Val loss: 68.9851, Best Val loss: 68.9851\n"
          ]
        },
        {
          "name": "stderr",
          "output_type": "stream",
          "text": [
            " 37%|███▋      | 37/100 [00:10<00:17,  3.64it/s]"
          ]
        },
        {
          "name": "stdout",
          "output_type": "stream",
          "text": [
            "Epoch 37/100, Train loss: 78.6097, Val loss: 72.8793, Best Val loss: 68.9851\n"
          ]
        },
        {
          "name": "stderr",
          "output_type": "stream",
          "text": [
            " 38%|███▊      | 38/100 [00:10<00:16,  3.66it/s]"
          ]
        },
        {
          "name": "stdout",
          "output_type": "stream",
          "text": [
            "Epoch 38/100, Train loss: 69.5349, Val loss: 58.6063, Best Val loss: 58.6063\n"
          ]
        },
        {
          "name": "stderr",
          "output_type": "stream",
          "text": [
            " 39%|███▉      | 39/100 [00:11<00:16,  3.67it/s]"
          ]
        },
        {
          "name": "stdout",
          "output_type": "stream",
          "text": [
            "Epoch 39/100, Train loss: 67.6960, Val loss: 54.2798, Best Val loss: 54.2798\n"
          ]
        },
        {
          "name": "stderr",
          "output_type": "stream",
          "text": [
            " 40%|████      | 40/100 [00:11<00:16,  3.62it/s]"
          ]
        },
        {
          "name": "stdout",
          "output_type": "stream",
          "text": [
            "Epoch 40/100, Train loss: 59.9614, Val loss: 50.0123, Best Val loss: 50.0123\n"
          ]
        },
        {
          "name": "stderr",
          "output_type": "stream",
          "text": [
            " 41%|████      | 41/100 [00:11<00:16,  3.59it/s]"
          ]
        },
        {
          "name": "stdout",
          "output_type": "stream",
          "text": [
            "Epoch 41/100, Train loss: 55.7701, Val loss: 47.5489, Best Val loss: 47.5489\n"
          ]
        },
        {
          "name": "stderr",
          "output_type": "stream",
          "text": [
            " 42%|████▏     | 42/100 [00:11<00:15,  3.66it/s]"
          ]
        },
        {
          "name": "stdout",
          "output_type": "stream",
          "text": [
            "Epoch 42/100, Train loss: 53.8662, Val loss: 53.7602, Best Val loss: 47.5489\n"
          ]
        },
        {
          "name": "stderr",
          "output_type": "stream",
          "text": [
            " 43%|████▎     | 43/100 [00:12<00:15,  3.70it/s]"
          ]
        },
        {
          "name": "stdout",
          "output_type": "stream",
          "text": [
            "Epoch 43/100, Train loss: 53.6172, Val loss: 41.1361, Best Val loss: 41.1361\n"
          ]
        },
        {
          "name": "stderr",
          "output_type": "stream",
          "text": [
            " 44%|████▍     | 44/100 [00:12<00:15,  3.69it/s]"
          ]
        },
        {
          "name": "stdout",
          "output_type": "stream",
          "text": [
            "Epoch 44/100, Train loss: 47.0166, Val loss: 37.1197, Best Val loss: 37.1197\n"
          ]
        },
        {
          "name": "stderr",
          "output_type": "stream",
          "text": [
            " 45%|████▌     | 45/100 [00:12<00:15,  3.65it/s]"
          ]
        },
        {
          "name": "stdout",
          "output_type": "stream",
          "text": [
            "Epoch 45/100, Train loss: 43.5703, Val loss: 34.2993, Best Val loss: 34.2993\n"
          ]
        },
        {
          "name": "stderr",
          "output_type": "stream",
          "text": [
            " 46%|████▌     | 46/100 [00:12<00:14,  3.62it/s]"
          ]
        },
        {
          "name": "stdout",
          "output_type": "stream",
          "text": [
            "Epoch 46/100, Train loss: 41.0298, Val loss: 32.5640, Best Val loss: 32.5640\n"
          ]
        },
        {
          "name": "stderr",
          "output_type": "stream",
          "text": [
            " 47%|████▋     | 47/100 [00:13<00:14,  3.61it/s]"
          ]
        },
        {
          "name": "stdout",
          "output_type": "stream",
          "text": [
            "Epoch 47/100, Train loss: 38.6626, Val loss: 29.9624, Best Val loss: 29.9624\n"
          ]
        },
        {
          "name": "stderr",
          "output_type": "stream",
          "text": [
            " 48%|████▊     | 48/100 [00:13<00:14,  3.60it/s]"
          ]
        },
        {
          "name": "stdout",
          "output_type": "stream",
          "text": [
            "Epoch 48/100, Train loss: 36.6572, Val loss: 28.0774, Best Val loss: 28.0774\n"
          ]
        },
        {
          "name": "stderr",
          "output_type": "stream",
          "text": [
            " 49%|████▉     | 49/100 [00:13<00:14,  3.57it/s]"
          ]
        },
        {
          "name": "stdout",
          "output_type": "stream",
          "text": [
            "Epoch 49/100, Train loss: 34.7718, Val loss: 25.9710, Best Val loss: 25.9710\n"
          ]
        },
        {
          "name": "stderr",
          "output_type": "stream",
          "text": [
            " 50%|█████     | 50/100 [00:14<00:14,  3.56it/s]"
          ]
        },
        {
          "name": "stdout",
          "output_type": "stream",
          "text": [
            "Epoch 50/100, Train loss: 33.4293, Val loss: 24.6202, Best Val loss: 24.6202\n"
          ]
        },
        {
          "name": "stderr",
          "output_type": "stream",
          "text": [
            " 51%|█████     | 51/100 [00:14<00:13,  3.55it/s]"
          ]
        },
        {
          "name": "stdout",
          "output_type": "stream",
          "text": [
            "Epoch 51/100, Train loss: 34.4606, Val loss: 22.8269, Best Val loss: 22.8269\n"
          ]
        },
        {
          "name": "stderr",
          "output_type": "stream",
          "text": [
            " 52%|█████▏    | 52/100 [00:14<00:13,  3.55it/s]"
          ]
        },
        {
          "name": "stdout",
          "output_type": "stream",
          "text": [
            "Epoch 52/100, Train loss: 30.3440, Val loss: 21.7604, Best Val loss: 21.7604\n"
          ]
        },
        {
          "name": "stderr",
          "output_type": "stream",
          "text": [
            " 53%|█████▎    | 53/100 [00:14<00:13,  3.51it/s]"
          ]
        },
        {
          "name": "stdout",
          "output_type": "stream",
          "text": [
            "Epoch 53/100, Train loss: 31.7551, Val loss: 19.8811, Best Val loss: 19.8811\n"
          ]
        },
        {
          "name": "stderr",
          "output_type": "stream",
          "text": [
            " 54%|█████▍    | 54/100 [00:15<00:12,  3.54it/s]"
          ]
        },
        {
          "name": "stdout",
          "output_type": "stream",
          "text": [
            "Epoch 54/100, Train loss: 26.9975, Val loss: 18.6017, Best Val loss: 18.6017\n"
          ]
        },
        {
          "name": "stderr",
          "output_type": "stream",
          "text": [
            " 55%|█████▌    | 55/100 [00:15<00:12,  3.57it/s]"
          ]
        },
        {
          "name": "stdout",
          "output_type": "stream",
          "text": [
            "Epoch 55/100, Train loss: 26.2781, Val loss: 17.4803, Best Val loss: 17.4803\n"
          ]
        },
        {
          "name": "stderr",
          "output_type": "stream",
          "text": [
            " 56%|█████▌    | 56/100 [00:15<00:12,  3.57it/s]"
          ]
        },
        {
          "name": "stdout",
          "output_type": "stream",
          "text": [
            "Epoch 56/100, Train loss: 25.1414, Val loss: 16.7695, Best Val loss: 16.7695\n"
          ]
        },
        {
          "name": "stderr",
          "output_type": "stream",
          "text": [
            " 57%|█████▋    | 57/100 [00:16<00:12,  3.57it/s]"
          ]
        },
        {
          "name": "stdout",
          "output_type": "stream",
          "text": [
            "Epoch 57/100, Train loss: 24.0820, Val loss: 15.8203, Best Val loss: 15.8203\n"
          ]
        },
        {
          "name": "stderr",
          "output_type": "stream",
          "text": [
            " 58%|█████▊    | 58/100 [00:16<00:11,  3.56it/s]"
          ]
        },
        {
          "name": "stdout",
          "output_type": "stream",
          "text": [
            "Epoch 58/100, Train loss: 23.0855, Val loss: 15.4759, Best Val loss: 15.4759\n"
          ]
        },
        {
          "name": "stderr",
          "output_type": "stream",
          "text": [
            " 59%|█████▉    | 59/100 [00:16<00:11,  3.64it/s]"
          ]
        },
        {
          "name": "stdout",
          "output_type": "stream",
          "text": [
            "Epoch 59/100, Train loss: 22.9559, Val loss: 15.8117, Best Val loss: 15.4759\n"
          ]
        },
        {
          "name": "stderr",
          "output_type": "stream",
          "text": [
            " 60%|██████    | 60/100 [00:16<00:10,  3.64it/s]"
          ]
        },
        {
          "name": "stdout",
          "output_type": "stream",
          "text": [
            "Epoch 60/100, Train loss: 22.4026, Val loss: 15.2385, Best Val loss: 15.2385\n"
          ]
        },
        {
          "name": "stderr",
          "output_type": "stream",
          "text": [
            " 61%|██████    | 61/100 [00:17<00:10,  3.63it/s]"
          ]
        },
        {
          "name": "stdout",
          "output_type": "stream",
          "text": [
            "Epoch 61/100, Train loss: 21.4184, Val loss: 12.8390, Best Val loss: 12.8390\n"
          ]
        },
        {
          "name": "stderr",
          "output_type": "stream",
          "text": [
            " 62%|██████▏   | 62/100 [00:17<00:10,  3.63it/s]"
          ]
        },
        {
          "name": "stdout",
          "output_type": "stream",
          "text": [
            "Epoch 62/100, Train loss: 20.3990, Val loss: 12.4454, Best Val loss: 12.4454\n"
          ]
        },
        {
          "name": "stderr",
          "output_type": "stream",
          "text": [
            " 63%|██████▎   | 63/100 [00:17<00:10,  3.61it/s]"
          ]
        },
        {
          "name": "stdout",
          "output_type": "stream",
          "text": [
            "Epoch 63/100, Train loss: 19.9917, Val loss: 12.1809, Best Val loss: 12.1809\n"
          ]
        },
        {
          "name": "stderr",
          "output_type": "stream",
          "text": [
            " 64%|██████▍   | 64/100 [00:17<00:10,  3.58it/s]"
          ]
        },
        {
          "name": "stdout",
          "output_type": "stream",
          "text": [
            "Epoch 64/100, Train loss: 19.2951, Val loss: 11.3905, Best Val loss: 11.3905\n"
          ]
        },
        {
          "name": "stderr",
          "output_type": "stream",
          "text": [
            " 65%|██████▌   | 65/100 [00:18<00:09,  3.60it/s]"
          ]
        },
        {
          "name": "stdout",
          "output_type": "stream",
          "text": [
            "Epoch 65/100, Train loss: 18.8535, Val loss: 11.0291, Best Val loss: 11.0291\n"
          ]
        },
        {
          "name": "stderr",
          "output_type": "stream",
          "text": [
            " 66%|██████▌   | 66/100 [00:18<00:09,  3.62it/s]"
          ]
        },
        {
          "name": "stdout",
          "output_type": "stream",
          "text": [
            "Epoch 66/100, Train loss: 18.3389, Val loss: 10.7677, Best Val loss: 10.7677\n"
          ]
        },
        {
          "name": "stderr",
          "output_type": "stream",
          "text": [
            " 67%|██████▋   | 67/100 [00:18<00:09,  3.57it/s]"
          ]
        },
        {
          "name": "stdout",
          "output_type": "stream",
          "text": [
            "Epoch 67/100, Train loss: 17.9924, Val loss: 10.2826, Best Val loss: 10.2826\n"
          ]
        },
        {
          "name": "stderr",
          "output_type": "stream",
          "text": [
            " 68%|██████▊   | 68/100 [00:19<00:08,  3.59it/s]"
          ]
        },
        {
          "name": "stdout",
          "output_type": "stream",
          "text": [
            "Epoch 68/100, Train loss: 17.6126, Val loss: 9.9670, Best Val loss: 9.9670\n"
          ]
        },
        {
          "name": "stderr",
          "output_type": "stream",
          "text": [
            " 69%|██████▉   | 69/100 [00:19<00:08,  3.60it/s]"
          ]
        },
        {
          "name": "stdout",
          "output_type": "stream",
          "text": [
            "Epoch 69/100, Train loss: 17.1601, Val loss: 9.7348, Best Val loss: 9.7348\n"
          ]
        },
        {
          "name": "stderr",
          "output_type": "stream",
          "text": [
            " 70%|███████   | 70/100 [00:19<00:08,  3.60it/s]"
          ]
        },
        {
          "name": "stdout",
          "output_type": "stream",
          "text": [
            "Epoch 70/100, Train loss: 16.7923, Val loss: 9.3425, Best Val loss: 9.3425\n"
          ]
        },
        {
          "name": "stderr",
          "output_type": "stream",
          "text": [
            " 71%|███████   | 71/100 [00:19<00:07,  3.66it/s]"
          ]
        },
        {
          "name": "stdout",
          "output_type": "stream",
          "text": [
            "Epoch 71/100, Train loss: 16.5329, Val loss: 9.6582, Best Val loss: 9.3425\n"
          ]
        },
        {
          "name": "stderr",
          "output_type": "stream",
          "text": [
            " 72%|███████▏  | 72/100 [00:20<00:07,  3.65it/s]"
          ]
        },
        {
          "name": "stdout",
          "output_type": "stream",
          "text": [
            "Epoch 72/100, Train loss: 16.3080, Val loss: 8.8354, Best Val loss: 8.8354\n"
          ]
        },
        {
          "name": "stderr",
          "output_type": "stream",
          "text": [
            " 73%|███████▎  | 73/100 [00:20<00:07,  3.63it/s]"
          ]
        },
        {
          "name": "stdout",
          "output_type": "stream",
          "text": [
            "Epoch 73/100, Train loss: 17.4191, Val loss: 8.6120, Best Val loss: 8.6120\n"
          ]
        },
        {
          "name": "stderr",
          "output_type": "stream",
          "text": [
            " 74%|███████▍  | 74/100 [00:20<00:07,  3.64it/s]"
          ]
        },
        {
          "name": "stdout",
          "output_type": "stream",
          "text": [
            "Epoch 74/100, Train loss: 18.0500, Val loss: 8.5558, Best Val loss: 8.5558\n"
          ]
        },
        {
          "name": "stderr",
          "output_type": "stream",
          "text": [
            " 75%|███████▌  | 75/100 [00:21<00:06,  3.65it/s]"
          ]
        },
        {
          "name": "stdout",
          "output_type": "stream",
          "text": [
            "Epoch 75/100, Train loss: 15.3044, Val loss: 8.3410, Best Val loss: 8.3410\n"
          ]
        },
        {
          "name": "stderr",
          "output_type": "stream",
          "text": [
            " 76%|███████▌  | 76/100 [00:21<00:06,  3.63it/s]"
          ]
        },
        {
          "name": "stdout",
          "output_type": "stream",
          "text": [
            "Epoch 76/100, Train loss: 15.1743, Val loss: 7.8648, Best Val loss: 7.8648\n"
          ]
        },
        {
          "name": "stderr",
          "output_type": "stream",
          "text": [
            " 77%|███████▋  | 77/100 [00:21<00:06,  3.67it/s]"
          ]
        },
        {
          "name": "stdout",
          "output_type": "stream",
          "text": [
            "Epoch 77/100, Train loss: 14.8909, Val loss: 8.0333, Best Val loss: 7.8648\n"
          ]
        },
        {
          "name": "stderr",
          "output_type": "stream",
          "text": [
            " 78%|███████▊  | 78/100 [00:21<00:05,  3.68it/s]"
          ]
        },
        {
          "name": "stdout",
          "output_type": "stream",
          "text": [
            "Epoch 78/100, Train loss: 15.0227, Val loss: 7.5789, Best Val loss: 7.5789\n"
          ]
        },
        {
          "name": "stderr",
          "output_type": "stream",
          "text": [
            " 79%|███████▉  | 79/100 [00:22<00:05,  3.72it/s]"
          ]
        },
        {
          "name": "stdout",
          "output_type": "stream",
          "text": [
            "Epoch 79/100, Train loss: 14.9091, Val loss: 7.6155, Best Val loss: 7.5789\n"
          ]
        },
        {
          "name": "stderr",
          "output_type": "stream",
          "text": [
            " 80%|████████  | 80/100 [00:22<00:05,  3.76it/s]"
          ]
        },
        {
          "name": "stdout",
          "output_type": "stream",
          "text": [
            "Epoch 80/100, Train loss: 14.4841, Val loss: 7.7432, Best Val loss: 7.5789\n"
          ]
        },
        {
          "name": "stderr",
          "output_type": "stream",
          "text": [
            " 81%|████████  | 81/100 [00:22<00:05,  3.70it/s]"
          ]
        },
        {
          "name": "stdout",
          "output_type": "stream",
          "text": [
            "Epoch 81/100, Train loss: 14.2849, Val loss: 7.3877, Best Val loss: 7.3877\n"
          ]
        },
        {
          "name": "stderr",
          "output_type": "stream",
          "text": [
            " 82%|████████▏ | 82/100 [00:22<00:04,  3.73it/s]"
          ]
        },
        {
          "name": "stdout",
          "output_type": "stream",
          "text": [
            "Epoch 82/100, Train loss: 14.1199, Val loss: 7.4437, Best Val loss: 7.3877\n"
          ]
        },
        {
          "name": "stderr",
          "output_type": "stream",
          "text": [
            " 83%|████████▎ | 83/100 [00:23<00:04,  3.76it/s]"
          ]
        },
        {
          "name": "stdout",
          "output_type": "stream",
          "text": [
            "Epoch 83/100, Train loss: 14.5014, Val loss: 7.4575, Best Val loss: 7.3877\n"
          ]
        },
        {
          "name": "stderr",
          "output_type": "stream",
          "text": [
            " 84%|████████▍ | 84/100 [00:23<00:04,  3.77it/s]"
          ]
        },
        {
          "name": "stdout",
          "output_type": "stream",
          "text": [
            "Epoch 84/100, Train loss: 14.3240, Val loss: 7.4168, Best Val loss: 7.3877\n"
          ]
        },
        {
          "name": "stderr",
          "output_type": "stream",
          "text": [
            " 85%|████████▌ | 85/100 [00:23<00:04,  3.66it/s]"
          ]
        },
        {
          "name": "stdout",
          "output_type": "stream",
          "text": [
            "Epoch 85/100, Train loss: 14.7047, Val loss: 7.2240, Best Val loss: 7.2240\n"
          ]
        },
        {
          "name": "stderr",
          "output_type": "stream",
          "text": [
            " 86%|████████▌ | 86/100 [00:23<00:03,  3.67it/s]"
          ]
        },
        {
          "name": "stdout",
          "output_type": "stream",
          "text": [
            "Epoch 86/100, Train loss: 13.7451, Val loss: 7.4205, Best Val loss: 7.2240\n"
          ]
        },
        {
          "name": "stderr",
          "output_type": "stream",
          "text": [
            " 87%|████████▋ | 87/100 [00:24<00:03,  3.70it/s]"
          ]
        },
        {
          "name": "stdout",
          "output_type": "stream",
          "text": [
            "Epoch 87/100, Train loss: 13.5936, Val loss: 7.4914, Best Val loss: 7.2240\n"
          ]
        },
        {
          "name": "stderr",
          "output_type": "stream",
          "text": [
            " 88%|████████▊ | 88/100 [00:24<00:03,  3.71it/s]"
          ]
        },
        {
          "name": "stdout",
          "output_type": "stream",
          "text": [
            "Epoch 88/100, Train loss: 13.5326, Val loss: 7.4887, Best Val loss: 7.2240\n"
          ]
        },
        {
          "name": "stderr",
          "output_type": "stream",
          "text": [
            " 89%|████████▉ | 89/100 [00:24<00:02,  3.75it/s]"
          ]
        },
        {
          "name": "stdout",
          "output_type": "stream",
          "text": [
            "Epoch 89/100, Train loss: 13.4328, Val loss: 7.4548, Best Val loss: 7.2240\n"
          ]
        },
        {
          "name": "stderr",
          "output_type": "stream",
          "text": [
            " 90%|█████████ | 90/100 [00:25<00:02,  3.78it/s]"
          ]
        },
        {
          "name": "stdout",
          "output_type": "stream",
          "text": [
            "Epoch 90/100, Train loss: 13.3832, Val loss: 7.4584, Best Val loss: 7.2240\n"
          ]
        },
        {
          "name": "stderr",
          "output_type": "stream",
          "text": [
            " 91%|█████████ | 91/100 [00:25<00:02,  3.79it/s]"
          ]
        },
        {
          "name": "stdout",
          "output_type": "stream",
          "text": [
            "Epoch 91/100, Train loss: 13.3390, Val loss: 7.4490, Best Val loss: 7.2240\n"
          ]
        },
        {
          "name": "stderr",
          "output_type": "stream",
          "text": [
            " 92%|█████████▏| 92/100 [00:25<00:02,  3.78it/s]"
          ]
        },
        {
          "name": "stdout",
          "output_type": "stream",
          "text": [
            "Epoch 92/100, Train loss: 13.3662, Val loss: 7.4775, Best Val loss: 7.2240\n"
          ]
        },
        {
          "name": "stderr",
          "output_type": "stream",
          "text": [
            " 93%|█████████▎| 93/100 [00:25<00:01,  3.78it/s]"
          ]
        },
        {
          "name": "stdout",
          "output_type": "stream",
          "text": [
            "Epoch 93/100, Train loss: 13.2874, Val loss: 7.4620, Best Val loss: 7.2240\n"
          ]
        },
        {
          "name": "stderr",
          "output_type": "stream",
          "text": [
            " 94%|█████████▍| 94/100 [00:26<00:01,  3.78it/s]"
          ]
        },
        {
          "name": "stdout",
          "output_type": "stream",
          "text": [
            "Epoch 94/100, Train loss: 13.2455, Val loss: 7.4641, Best Val loss: 7.2240\n"
          ]
        },
        {
          "name": "stderr",
          "output_type": "stream",
          "text": [
            " 95%|█████████▌| 95/100 [00:26<00:01,  3.78it/s]"
          ]
        },
        {
          "name": "stdout",
          "output_type": "stream",
          "text": [
            "Epoch 95/100, Train loss: 13.2286, Val loss: 7.4671, Best Val loss: 7.2240\n"
          ]
        },
        {
          "name": "stderr",
          "output_type": "stream",
          "text": [
            " 96%|█████████▌| 96/100 [00:26<00:01,  3.80it/s]"
          ]
        },
        {
          "name": "stdout",
          "output_type": "stream",
          "text": [
            "Epoch 96/100, Train loss: 13.2126, Val loss: 7.4711, Best Val loss: 7.2240\n"
          ]
        },
        {
          "name": "stderr",
          "output_type": "stream",
          "text": [
            " 97%|█████████▋| 97/100 [00:26<00:00,  3.77it/s]"
          ]
        },
        {
          "name": "stdout",
          "output_type": "stream",
          "text": [
            "Epoch 97/100, Train loss: 13.2112, Val loss: 7.4717, Best Val loss: 7.2240\n"
          ]
        },
        {
          "name": "stderr",
          "output_type": "stream",
          "text": [
            " 98%|█████████▊| 98/100 [00:27<00:00,  3.77it/s]"
          ]
        },
        {
          "name": "stdout",
          "output_type": "stream",
          "text": [
            "Epoch 98/100, Train loss: 13.2001, Val loss: 7.4735, Best Val loss: 7.2240\n"
          ]
        },
        {
          "name": "stderr",
          "output_type": "stream",
          "text": [
            " 99%|█████████▉| 99/100 [00:27<00:00,  3.79it/s]"
          ]
        },
        {
          "name": "stdout",
          "output_type": "stream",
          "text": [
            "Epoch 99/100, Train loss: 13.1992, Val loss: 7.4744, Best Val loss: 7.2240\n"
          ]
        },
        {
          "name": "stderr",
          "output_type": "stream",
          "text": [
            "100%|██████████| 100/100 [00:27<00:00,  3.61it/s]"
          ]
        },
        {
          "name": "stdout",
          "output_type": "stream",
          "text": [
            "Epoch 100/100, Train loss: 13.7009, Val loss: 7.4742, Best Val loss: 7.2240\n"
          ]
        },
        {
          "name": "stderr",
          "output_type": "stream",
          "text": [
            "\n"
          ]
        }
      ],
      "source": [
        "import torch.optim as optim\n",
        "from torch.optim.lr_scheduler import CosineAnnealingLR\n",
        "from tqdm.auto import tqdm\n",
        "\n",
        "train_losses = []\n",
        "val_losses = []\n",
        "\n",
        "epochs = 100\n",
        "\n",
        "model = LSTMModel(input_dim=3, hidden_dim=500, num_layers=2, output_dim=1).cuda()\n",
        "print(model)\n",
        "\n",
        "best_val_loss = float('inf')\n",
        "\n",
        "criterion = nn.MSELoss()\n",
        "optimizer = optim.Adam(model.parameters(), lr=1e-3)\n",
        "lr_scheduler = CosineAnnealingLR(optimizer, T_max=epochs, eta_min=0)\n",
        "\n",
        "for epoch in tqdm(range(epochs)):\n",
        "    # Training\n",
        "    model.train()\n",
        "    total_loss = 0.0\n",
        "\n",
        "    for features, labels in train_loader:\n",
        "        features = features.cuda()\n",
        "        labels = labels.cuda()\n",
        "        outputs = model(features).squeeze(-1)\n",
        "        loss = criterion(outputs, labels)\n",
        "        total_loss += loss.item()\n",
        "\n",
        "        optimizer.zero_grad()\n",
        "        loss.backward()\n",
        "        optimizer.step()\n",
        "\n",
        "    # Learning rate update\n",
        "    lr_scheduler.step()\n",
        "\n",
        "    avg_train_loss = total_loss / len(train_loader)\n",
        "\n",
        "    # Validation\n",
        "    model.eval()\n",
        "    total_val_loss = 0.0\n",
        "\n",
        "    with torch.no_grad():\n",
        "        for features, labels in val_loader:\n",
        "            features = features.cuda()\n",
        "            labels = labels.cuda()\n",
        "            outputs = model(features).squeeze(-1)\n",
        "            loss = criterion(outputs, labels)\n",
        "            total_val_loss += loss.item()\n",
        "\n",
        "    avg_val_loss = total_val_loss / len(val_loader)\n",
        "\n",
        "    # Checkpoint\n",
        "    if avg_val_loss < best_val_loss:\n",
        "        best_val_loss = avg_val_loss\n",
        "        torch.save(model.state_dict(), 'best_model.pth')\n",
        "\n",
        "    print(f'Epoch {epoch+1}/{epochs}, Train loss: {avg_train_loss:.4f}, Val loss: {avg_val_loss:.4f}, Best Val loss: {best_val_loss:.4f}')\n",
        "\n",
        "    # Store performance\n",
        "    train_losses.append(avg_train_loss)\n",
        "    val_losses.append(avg_val_loss)"
      ]
    },
    {
      "cell_type": "markdown",
      "id": "a7984c6e-6652-4160-b572-07d48bc93a3f",
      "metadata": {
        "id": "a7984c6e-6652-4160-b572-07d48bc93a3f"
      },
      "source": [
        "#### Visualizing the model performance"
      ]
    },
    {
      "cell_type": "code",
      "execution_count": 75,
      "id": "5559d850-1fb5-4b04-b6ca-60c5b309f34e",
      "metadata": {
        "id": "5559d850-1fb5-4b04-b6ca-60c5b309f34e"
      },
      "outputs": [
        {
          "data": {
            "image/png": "[encoded data removed]",
            "text/plain": [
              "<Figure size 1000x500 with 1 Axes>"
            ]
          },
          "metadata": {},
          "output_type": "display_data"
        }
      ],
      "source": [
        "import matplotlib.pyplot as plt\n",
        "\n",
        "plt.figure(figsize=(10, 5))\n",
        "plt.plot(train_losses)\n",
        "plt.plot(val_losses)\n",
        "plt.xlabel('Epochs')\n",
        "plt.ylabel('Loss')\n",
        "plt.legend(['Train', 'Val'])\n",
        "\n",
        "plt.show()"
      ]
    },
    {
      "cell_type": "markdown",
      "id": "89c7e51b-8ab6-4aa2-877d-39b6daf55c20",
      "metadata": {
        "id": "89c7e51b-8ab6-4aa2-877d-39b6daf55c20"
      },
      "source": [
        "## D. Evaluating Your Trained Model"
      ]
    },
    {
      "cell_type": "code",
      "execution_count": 76,
      "id": "4bcf8580-42ee-4ee7-ad15-9f080cc57a33",
      "metadata": {
        "id": "4bcf8580-42ee-4ee7-ad15-9f080cc57a33"
      },
      "outputs": [],
      "source": [
        "# Load the trained weights\n",
        "model.load_state_dict(torch.load('best_model.pth'))\n",
        "\n",
        "# Set the model to evaluation mode\n",
        "model.eval()\n",
        "\n",
        "test_correct = 0\n",
        "test_total = 0\n",
        "\n",
        "pred_value = []\n",
        "actual_value = []\n",
        "\n",
        "with torch.no_grad():\n",
        "    for features, labels in test_loader:\n",
        "        features = features.cuda()\n",
        "        outputs = model(features).squeeze(-1)\n",
        "        pred_value.append(outputs.cpu())\n",
        "        actual_value.append(labels)\n",
        "\n",
        "pred_value = torch.cat(pred_value)\n",
        "actual_value = torch.cat(actual_value)"
      ]
    },
    {
      "cell_type": "code",
      "execution_count": 77,
      "id": "dde4e0a5-32be-4db3-95fb-4fad8926ce9b",
      "metadata": {
        "id": "dde4e0a5-32be-4db3-95fb-4fad8926ce9b"
      },
      "outputs": [
        {
          "data": {
            "image/png": "[encoded data removed]",
            "text/plain": [
              "<Figure size 1000x500 with 1 Axes>"
            ]
          },
          "metadata": {},
          "output_type": "display_data"
        }
      ],
      "source": [
        "plt.figure(figsize=(10, 5))\n",
        "plt.plot(pred_value[:])\n",
        "plt.plot(actual_value[:])\n",
        "plt.xlabel('Day')\n",
        "plt.ylabel('Price')\n",
        "plt.legend(['Pred', 'Actual'])\n",
        "\n",
        "plt.show()"
      ]
    },
    {
      "cell_type": "code",
      "execution_count": null,
      "id": "LNOafPmRZUrE",
      "metadata": {
        "id": "LNOafPmRZUrE"
      },
      "outputs": [],
      "source": []
    }
  ],
  "metadata": {
    "accelerator": "GPU",
    "colab": {
      "gpuType": "T4",
      "provenance": []
    },
    "kernelspec": {
      "display_name": "Python 3",
      "name": "python3"
    },
    "language_info": {
      "codemirror_mode": {
        "name": "ipython",
        "version": 3
      },
      "file_extension": ".py",
      "mimetype": "text/x-python",
      "name": "python",
      "nbconvert_exporter": "python",
      "pygments_lexer": "ipython3",
      "version": "3.8.18"
    }
  },
  "nbformat": 4,
  "nbformat_minor": 5
}
